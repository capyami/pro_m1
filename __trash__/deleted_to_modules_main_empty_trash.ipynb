{
 "cells": [
  {
   "cell_type": "markdown",
   "id": "15200c37",
   "metadata": {},
   "source": [
    "# Project data analisys m1"
   ]
  },
  {
   "cell_type": "markdown",
   "id": "04f6d594",
   "metadata": {},
   "source": [
    "##### Problmeas encontrados y cómo se resolvieron\n",
    "### Readme con fotos e instrucciones\n",
    "Importar librerías\n",
    "### Adquisition\n",
    "Importar datos, sql y api\n",
    "### Wrangling\n",
    "Limpieza de datos. Tengo dos nulos: 192(191) y 98(99)\n",
    "### Analisys\n",
    "Crear funciones siempre mejor\n",
    "\n",
    "Clacular distancias y limpiar\n",
    "\n",
    "Asignar la station y address a places\n",
    "\n",
    "### Reporting\n",
    "Two options: all place or one\n",
    "\n",
    "To csv\n",
    "\n",
    "Additional documents: pdf, power points,..."
   ]
  },
  {
   "cell_type": "code",
   "execution_count": 1,
   "id": "5cc0b6fa",
   "metadata": {},
   "outputs": [],
   "source": [
    "import requests\n",
    "import json\n",
    "import pandas as pd\n",
    "import numpy as np\n",
    "import re\n",
    "import os\n",
    "import duckdb\n",
    "from shapely.geometry import Point\n",
    "import geopandas as gpd\n",
    "from modules import geo_calculations\n",
    "pd.options.display.max_columns = None\n",
    "pd.options.display.max_rows = None"
   ]
  },
  {
   "cell_type": "markdown",
   "id": "3b082eea",
   "metadata": {},
   "source": [
    "| Place of interest | Type of place (*) | Place address | BiciMAD station | Station location |"
   ]
  },
  {
   "cell_type": "markdown",
   "id": "dd061b88",
   "metadata": {},
   "source": [
    "#### Crear función para las distancias, apply lambda?"
   ]
  },
  {
   "cell_type": "markdown",
   "id": "96b810ba",
   "metadata": {},
   "source": [
    "#### Extraer esta funcion a módulos, es para crear un diccionario con la estacion y la distancia, y asignar el indice de gardens como key"
   ]
  },
  {
   "cell_type": "markdown",
   "id": "6a8f8075",
   "metadata": {},
   "source": [
    "#### Extraer esta función a módulos, es para asignar nombre de estacion a la fila"
   ]
  },
  {
   "cell_type": "markdown",
   "id": "7bb7578b",
   "metadata": {},
   "source": [
    "Tansformo la lista de estaciones con la mínima distancia"
   ]
  },
  {
   "cell_type": "markdown",
   "id": "07b275b6",
   "metadata": {},
   "source": [
    "Transpose para tener mismas filas que gardens"
   ]
  },
  {
   "cell_type": "markdown",
   "id": "f5a38bd5",
   "metadata": {},
   "source": [
    "Renombro las columnas de las estaciones con la distancia mínima"
   ]
  },
  {
   "cell_type": "markdown",
   "id": "3d6b3f0e",
   "metadata": {},
   "source": [
    "Split para separar numero de nombre"
   ]
  },
  {
   "cell_type": "markdown",
   "id": "9429a900",
   "metadata": {},
   "source": [
    "Renombro las columnas"
   ]
  },
  {
   "cell_type": "code",
   "execution_count": null,
   "id": "c60429cd",
   "metadata": {},
   "outputs": [],
   "source": [
    "df_min_station_names1.rename(columns={0: \"numberof\", 1:'name2', 2:'null'}, inplace=True)"
   ]
  },
  {
   "cell_type": "markdown",
   "id": "6350d336",
   "metadata": {},
   "source": [
    "Concateno los 3 data frames"
   ]
  },
  {
   "cell_type": "code",
   "execution_count": null,
   "id": "ecefb5ee",
   "metadata": {},
   "outputs": [],
   "source": [
    "df_final = pd.concat([cleaning_df_garden, df_min_station_names, df_min_station_names1], axis=1)"
   ]
  },
  {
   "cell_type": "markdown",
   "id": "98313140",
   "metadata": {},
   "source": [
    "Selecciono las columnas del df que concateno"
   ]
  },
  {
   "cell_type": "code",
   "execution_count": null,
   "id": "e45ddb7f",
   "metadata": {},
   "outputs": [],
   "source": [
    "df_final = df_final[['title', '@type', 'street-address', 'name2', 'address1']]"
   ]
  },
  {
   "cell_type": "markdown",
   "id": "5cebd1f4",
   "metadata": {},
   "source": [
    "Renombro las columnas para el resultado final que se pide"
   ]
  },
  {
   "cell_type": "code",
   "execution_count": null,
   "id": "80171f3f",
   "metadata": {},
   "outputs": [],
   "source": [
    "df_final = df_final.rename(columns={'title': 'Place of interest', '@type': 'Type of place', 'street-address': 'Place address', 'name2': 'BiciMAD station', 'address1': 'Station location'})"
   ]
  },
  {
   "cell_type": "code",
   "execution_count": null,
   "id": "d9daac2d",
   "metadata": {},
   "outputs": [],
   "source": [
    "df_final.head()"
   ]
  },
  {
   "cell_type": "markdown",
   "id": "56d0f740",
   "metadata": {},
   "source": [
    "Cambiar los null por Jardínes"
   ]
  },
  {
   "cell_type": "code",
   "execution_count": null,
   "id": "ba3290fb",
   "metadata": {},
   "outputs": [],
   "source": [
    "df_final[\"Type of place\"].fillna(\"ParquesJardines\", inplace = True)"
   ]
  },
  {
   "cell_type": "code",
   "execution_count": null,
   "id": "6dee6d07",
   "metadata": {},
   "outputs": [],
   "source": [
    "# Separar con espacios tipo de lugar"
   ]
  }
 ],
 "metadata": {
  "kernelspec": {
   "display_name": "Python [conda env:pro_m1]",
   "language": "python",
   "name": "conda-env-pro_m1-py"
  },
  "language_info": {
   "codemirror_mode": {
    "name": "ipython",
    "version": 3
   },
   "file_extension": ".py",
   "mimetype": "text/x-python",
   "name": "python",
   "nbconvert_exporter": "python",
   "pygments_lexer": "ipython3",
   "version": "3.9.16"
  }
 },
 "nbformat": 4,
 "nbformat_minor": 5
}
