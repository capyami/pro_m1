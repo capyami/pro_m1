{
 "cells": [
  {
   "cell_type": "markdown",
   "id": "15200c37",
   "metadata": {},
   "source": [
    "# Project data analisys m1"
   ]
  },
  {
   "cell_type": "markdown",
   "id": "04f6d594",
   "metadata": {},
   "source": [
    "##### Problmeas encontrados y cómo se resolvieron\n",
    "### Readme con fotos e instrucciones\n",
    "Importar librerías\n",
    "### Adquisition\n",
    "Importar datos, sql y api\n",
    "### Wrangling\n",
    "Limpieza de datos. Tengo dos nulos: 192(191) y 98(99)\n",
    "### Analisys\n",
    "Crear funciones siempre mejor\n",
    "\n",
    "Clacular distancias y limpiar\n",
    "\n",
    "Asignar la station y address a places\n",
    "\n",
    "### Reporting\n",
    "Two options: all place or one\n",
    "\n",
    "To csv\n",
    "\n",
    "Additional documents: pdf, power points,..."
   ]
  },
  {
   "cell_type": "code",
   "execution_count": 1,
   "id": "5cc0b6fa",
   "metadata": {},
   "outputs": [],
   "source": [
    "import requests\n",
    "import json\n",
    "import pandas as pd\n",
    "import numpy as np\n",
    "import re\n",
    "import os\n",
    "import duckdb\n",
    "from shapely.geometry import Point\n",
    "import geopandas as gpd\n",
    "from modules import geo_calculations\n",
    "pd.options.display.max_columns = None\n",
    "pd.options.display.max_rows = None"
   ]
  },
  {
   "cell_type": "markdown",
   "id": "3b082eea",
   "metadata": {},
   "source": [
    "| Place of interest | Type of place (*) | Place address | BiciMAD station | Station location |"
   ]
  },
  {
   "cell_type": "markdown",
   "id": "cb7ceb5a",
   "metadata": {},
   "source": [
    "---\n",
    "### Gardens"
   ]
  },
  {
   "cell_type": "markdown",
   "id": "ee0cbf58",
   "metadata": {},
   "source": [
    "Agrupar en funciones module adquisition"
   ]
  },
  {
   "cell_type": "code",
   "execution_count": 2,
   "id": "1434e3a8",
   "metadata": {},
   "outputs": [],
   "source": [
    "# endpoint api Madrid gardens\n",
    "response = requests.get('https://datos.madrid.es/egob/catalogo/200761-0-parques-jardines.json')\n",
    "results_api = response.json()"
   ]
  },
  {
   "cell_type": "code",
   "execution_count": 3,
   "id": "b1ecd590",
   "metadata": {},
   "outputs": [],
   "source": [
    "# Selecciono la lista que quiero\n",
    "list_api_garden = results_api['@graph']"
   ]
  },
  {
   "cell_type": "code",
   "execution_count": 4,
   "id": "b5a60e05",
   "metadata": {},
   "outputs": [],
   "source": [
    "# Transformo a data frame\n",
    "df_garden = pd.DataFrame(list_api_garden)"
   ]
  },
  {
   "cell_type": "code",
   "execution_count": 5,
   "id": "3f82710d",
   "metadata": {},
   "outputs": [],
   "source": [
    "# Separo langitud y latitud de la columna location\n",
    "df_garden_location = df_garden[\"location\"].apply(pd.Series)"
   ]
  },
  {
   "cell_type": "code",
   "execution_count": 6,
   "id": "b1c97804",
   "metadata": {},
   "outputs": [],
   "source": [
    "# Separa los elementos de address\n",
    "df_garden_address = df_garden[\"address\"].apply(pd.Series)"
   ]
  },
  {
   "cell_type": "code",
   "execution_count": 7,
   "id": "43c9ef7a",
   "metadata": {},
   "outputs": [],
   "source": [
    "# Elimino lo innecesario para hacerlo más legible de @type\n",
    "# La barra se podría cambiar con un str.replace por una coma\n",
    "df_garden_type = df_garden[\"@type\"].str.replace('https://datos.madrid.es/egob/kos/entidadesYorganismos/', '')"
   ]
  },
  {
   "cell_type": "code",
   "execution_count": 8,
   "id": "22357bcf",
   "metadata": {},
   "outputs": [],
   "source": [
    "# En el data frame de garden, me quedo solo con title, para no repetir @type y evitar posibles problemas en el futuro\n",
    "both_df_garden = pd.concat([df_garden[['title']], df_garden_location, df_garden_address, df_garden_type], axis = 1)"
   ]
  },
  {
   "cell_type": "code",
   "execution_count": 9,
   "id": "06adb369",
   "metadata": {},
   "outputs": [],
   "source": [
    "# Elimino columnas o selecciono columnas que quiero: location, type, address and title of gardens, o no\n",
    "cleaning_df_garden = both_df_garden[['title', '@type', 'locality', 'postal-code', 'street-address', 'latitude', 'longitude']]"
   ]
  },
  {
   "cell_type": "markdown",
   "id": "81a1cd84",
   "metadata": {},
   "source": [
    "---\n",
    "### Bicimad"
   ]
  },
  {
   "cell_type": "markdown",
   "id": "bcef039f",
   "metadata": {},
   "source": [
    "Extraer funcion de adquisition"
   ]
  },
  {
   "cell_type": "code",
   "execution_count": 10,
   "id": "c9b949e9",
   "metadata": {},
   "outputs": [],
   "source": [
    "# endpoint duck"
   ]
  },
  {
   "cell_type": "code",
   "execution_count": 11,
   "id": "ca811fc1",
   "metadata": {},
   "outputs": [],
   "source": [
    "db_bicimad = duckdb.connect('bicimad1.db')"
   ]
  },
  {
   "cell_type": "code",
   "execution_count": 12,
   "id": "f25292c9",
   "metadata": {},
   "outputs": [],
   "source": [
    "# Data Frame data base statiosn"
   ]
  },
  {
   "cell_type": "code",
   "execution_count": 13,
   "id": "8cff2a0a",
   "metadata": {},
   "outputs": [],
   "source": [
    "df_bicimad = db_bicimad.sql('select * from bicimad_stations').df()"
   ]
  },
  {
   "cell_type": "code",
   "execution_count": 14,
   "id": "903c36d1",
   "metadata": {},
   "outputs": [],
   "source": [
    "# Separo geometry coordinates"
   ]
  },
  {
   "cell_type": "code",
   "execution_count": 15,
   "id": "ed2b3dfc",
   "metadata": {},
   "outputs": [],
   "source": [
    "df_bicimad[['longitude', 'latitude']] = df_bicimad[\"geometry.coordinates\"].apply(lambda x: pd.Series(str(x).replace('[','').replace(']','').split(\",\")))"
   ]
  },
  {
   "cell_type": "code",
   "execution_count": 16,
   "id": "14a16ba7",
   "metadata": {},
   "outputs": [],
   "source": [
    "df_bicimad = df_bicimad[['name', 'address', 'latitude', 'longitude',]]"
   ]
  },
  {
   "cell_type": "markdown",
   "id": "3ca9162e",
   "metadata": {},
   "source": [
    "---"
   ]
  },
  {
   "cell_type": "markdown",
   "id": "48bfeb57",
   "metadata": {},
   "source": [
    "## Muestro los dos resultados de data wrangling"
   ]
  },
  {
   "cell_type": "code",
   "execution_count": 17,
   "id": "84d43e22",
   "metadata": {},
   "outputs": [],
   "source": [
    "#df_bicimad"
   ]
  },
  {
   "cell_type": "code",
   "execution_count": 18,
   "id": "c1276c98",
   "metadata": {},
   "outputs": [],
   "source": [
    "#cleaning_df_garden"
   ]
  },
  {
   "cell_type": "markdown",
   "id": "5e5f2323",
   "metadata": {},
   "source": [
    "## Data Analisys"
   ]
  },
  {
   "cell_type": "code",
   "execution_count": 19,
   "id": "db016563",
   "metadata": {},
   "outputs": [],
   "source": [
    "# Incluir de alguna forma la comparacion con un loop o comprehension"
   ]
  },
  {
   "cell_type": "code",
   "execution_count": 20,
   "id": "3e5a8d1f",
   "metadata": {},
   "outputs": [],
   "source": [
    "# Incluyo las funciones para pruebas"
   ]
  },
  {
   "cell_type": "markdown",
   "id": "1b514985",
   "metadata": {},
   "source": [
    "#### Función en módulo del proyecto"
   ]
  },
  {
   "cell_type": "code",
   "execution_count": 21,
   "id": "0486adb8",
   "metadata": {},
   "outputs": [],
   "source": [
    "def to_mercator(lat, long):\n",
    "    # transform latitude/longitude data in degrees to pseudo-mercator coordinates in metres\n",
    "    c = gpd.GeoSeries([Point(lat, long)], crs=4326)\n",
    "    c = c.to_crs(3857)\n",
    "    return c\n",
    "\n",
    "def distance_meters(lat_start, long_start, lat_finish, long_finish):\n",
    "    # return the distance in metres between to latitude/longitude pair point in degrees (i.e.: 40.392436 / -3.6994487)\n",
    "    start = to_mercator(lat_start, long_start)\n",
    "    finish = to_mercator(lat_finish, long_finish)\n",
    "    return start.distance(finish)"
   ]
  },
  {
   "cell_type": "code",
   "execution_count": 22,
   "id": "5207b82c",
   "metadata": {},
   "outputs": [],
   "source": [
    "# Mido las distancias"
   ]
  },
  {
   "cell_type": "markdown",
   "id": "dd061b88",
   "metadata": {},
   "source": [
    "#### Crear función para las distancias, apply lambda?"
   ]
  },
  {
   "cell_type": "code",
   "execution_count": 23,
   "id": "bcb1b804",
   "metadata": {},
   "outputs": [
    {
     "name": "stdout",
     "output_type": "stream",
     "text": [
      "CPU times: total: 10min 24s\n",
      "Wall time: 11min 43s\n"
     ]
    }
   ],
   "source": [
    "%%time\n",
    "distance=[]\n",
    "for index, row in cleaning_df_garden.iterrows():\n",
    "    for index, j in df_bicimad.iterrows():\n",
    "        distance.append(distance_meters(float(row['latitude']), float(row['longitude']), float(j['latitude']), float(j['longitude'])))"
   ]
  },
  {
   "cell_type": "markdown",
   "id": "9c5fd244",
   "metadata": {},
   "source": [
    "Función para agrupar en lista de listas"
   ]
  },
  {
   "cell_type": "code",
   "execution_count": 24,
   "id": "871e907e",
   "metadata": {},
   "outputs": [
    {
     "name": "stdout",
     "output_type": "stream",
     "text": [
      "CPU times: total: 15.6 ms\n",
      "Wall time: 18.4 ms\n"
     ]
    }
   ],
   "source": [
    "%%time\n",
    "list_df_coordinates=[]\n",
    "count=0\n",
    "list_list = []\n",
    "for i in distance:\n",
    "    if count != 264:\n",
    "        count = count + 1\n",
    "        list_list.append(i)\n",
    "    if count == 264: # = rows of stations --> df_bicimad(rows)\n",
    "        count = 0\n",
    "        list_df_coordinates.append(list_list)\n",
    "        list_list = []"
   ]
  },
  {
   "cell_type": "code",
   "execution_count": 25,
   "id": "f7c5156a",
   "metadata": {},
   "outputs": [],
   "source": [
    "df_coordinates = pd.DataFrame(list_df_coordinates)\n",
    "#df_coordinates"
   ]
  },
  {
   "cell_type": "markdown",
   "id": "42d040df",
   "metadata": {},
   "source": [
    "#### Extraer la función a módulos. Es para dejar solo números en data frame"
   ]
  },
  {
   "cell_type": "code",
   "execution_count": 32,
   "id": "e7e4c9a8",
   "metadata": {},
   "outputs": [
    {
     "name": "stdout",
     "output_type": "stream",
     "text": [
      "CPU times: total: 1.59 s\n",
      "Wall time: 18 s\n"
     ]
    }
   ],
   "source": [
    "%%time\n",
    "def remove_non_numeric(s):\n",
    "    return re.sub('[^0-9\\.]+', '', s)\n",
    "\n",
    "# convert all values in the dataframe to strings\n",
    "df_coordinates = df_coordinates.astype(str)\n",
    "\n",
    "# apply the function to all elements in the dataframe using a lambda function\n",
    "df_coordinates = df_coordinates.applymap(lambda x: remove_non_numeric(x))\n",
    "\n",
    "# convert all values in the dataframe back to float data type\n",
    "df_coordinates = df_coordinates.astype(float)"
   ]
  },
  {
   "cell_type": "code",
   "execution_count": null,
   "id": "c1b2d43a",
   "metadata": {},
   "outputs": [],
   "source": [
    "# mínimo de las filas\n",
    "min_rows = df_coordinates.min(axis=1)"
   ]
  },
  {
   "cell_type": "code",
   "execution_count": null,
   "id": "31438e66",
   "metadata": {},
   "outputs": [],
   "source": [
    "dict_min_distances = min_rows.to_dict()"
   ]
  },
  {
   "cell_type": "code",
   "execution_count": null,
   "id": "d780d5f5",
   "metadata": {},
   "outputs": [],
   "source": [
    "dict_all_distances = df_coordinates.to_dict()"
   ]
  },
  {
   "cell_type": "markdown",
   "id": "96b810ba",
   "metadata": {},
   "source": [
    "#### Extraer esta funcion a módulos, es para crear un diccionario con la estacion y la distancia, y asignar el indice de gardens como key"
   ]
  },
  {
   "cell_type": "code",
   "execution_count": null,
   "id": "7741928c",
   "metadata": {},
   "outputs": [],
   "source": [
    "dict_min_station = {}\n",
    "for keys1, values1 in dict_all_distances.items():\n",
    "    for key_a, value_a in values1.items():\n",
    "        for key_min, value_min in dict_min_distances.items():\n",
    "            if value_a == value_min:\n",
    "                dict_min_station[key_min] = (value_min, keys1)\n",
    "                \n",
    "len(dict_min_station)"
   ]
  },
  {
   "cell_type": "code",
   "execution_count": null,
   "id": "801e6ea1",
   "metadata": {},
   "outputs": [],
   "source": [
    "dict_min_station = dict(sorted(dict_min_station.items())) # place: distance,station"
   ]
  },
  {
   "cell_type": "code",
   "execution_count": null,
   "id": "78d7b934",
   "metadata": {},
   "outputs": [],
   "source": [
    "df_min_station=pd.DataFrame.from_dict(dict_min_station, orient='index')"
   ]
  },
  {
   "cell_type": "code",
   "execution_count": null,
   "id": "b8835293",
   "metadata": {},
   "outputs": [],
   "source": [
    "df_min_station"
   ]
  },
  {
   "cell_type": "code",
   "execution_count": null,
   "id": "c4892bc2",
   "metadata": {},
   "outputs": [],
   "source": [
    "df_min_station.rename(columns={1: \"1a\"}, inplace=True)"
   ]
  },
  {
   "cell_type": "code",
   "execution_count": null,
   "id": "5f69f785",
   "metadata": {},
   "outputs": [],
   "source": [
    "df_bicimad['index'] = df_bicimad.index\n"
   ]
  },
  {
   "cell_type": "code",
   "execution_count": null,
   "id": "9e2d63e7",
   "metadata": {},
   "outputs": [],
   "source": [
    "df_bicimad.rename(columns={\"index\": \"1a\"}, inplace=True)\n"
   ]
  },
  {
   "cell_type": "markdown",
   "id": "6a8f8075",
   "metadata": {},
   "source": [
    "#### Extraer esta función a módulos, es para asignar nombre de estacion a la fila"
   ]
  },
  {
   "cell_type": "code",
   "execution_count": null,
   "id": "ccb8aa93",
   "metadata": {},
   "outputs": [],
   "source": [
    "list_min_station_names = {}\n",
    "count = 0\n",
    "for index, row1 in df_min_station.iterrows():\n",
    "    for index, row2 in df_bicimad.iterrows():\n",
    "        if row1['1a'] == row2['1a']:\n",
    "            list_min_station_names[count]= (row2['name'], row2['address'])\n",
    "            count = count +1\n"
   ]
  },
  {
   "cell_type": "markdown",
   "id": "7bb7578b",
   "metadata": {},
   "source": [
    "Tansformo la lista de estaciones con la mínima distancia"
   ]
  },
  {
   "cell_type": "code",
   "execution_count": null,
   "id": "e14059c2",
   "metadata": {},
   "outputs": [],
   "source": [
    "df_min_station_names = pd.DataFrame(list_min_station_names)"
   ]
  },
  {
   "cell_type": "markdown",
   "id": "07b275b6",
   "metadata": {},
   "source": [
    "Transpose para tener mismas filas que gardens"
   ]
  },
  {
   "cell_type": "code",
   "execution_count": null,
   "id": "860413ba",
   "metadata": {},
   "outputs": [],
   "source": [
    "df_min_station_names = df_min_station_names.transpose()"
   ]
  },
  {
   "cell_type": "markdown",
   "id": "f5a38bd5",
   "metadata": {},
   "source": [
    "Renombro las columnas de las estaciones con la distancia mínima"
   ]
  },
  {
   "cell_type": "code",
   "execution_count": null,
   "id": "4c324e1c",
   "metadata": {},
   "outputs": [],
   "source": [
    "df_min_station_names.rename(columns={0: \"name1\", 1:'address1'}, inplace=True)"
   ]
  },
  {
   "cell_type": "markdown",
   "id": "3d6b3f0e",
   "metadata": {},
   "source": [
    "Split para separar numero de nombre"
   ]
  },
  {
   "cell_type": "code",
   "execution_count": null,
   "id": "1e8991be",
   "metadata": {},
   "outputs": [],
   "source": [
    "df_min_station_names1 = df_min_station_names['name1'].apply(lambda x: pd.Series(str(x).split('-')))"
   ]
  },
  {
   "cell_type": "markdown",
   "id": "9429a900",
   "metadata": {},
   "source": [
    "Renombro las columnas"
   ]
  },
  {
   "cell_type": "code",
   "execution_count": null,
   "id": "c60429cd",
   "metadata": {},
   "outputs": [],
   "source": [
    "df_min_station_names1.rename(columns={0: \"numberof\", 1:'name2', 2:'null'}, inplace=True)"
   ]
  },
  {
   "cell_type": "markdown",
   "id": "6350d336",
   "metadata": {},
   "source": [
    "Concateno los 3 data frames"
   ]
  },
  {
   "cell_type": "code",
   "execution_count": null,
   "id": "ecefb5ee",
   "metadata": {},
   "outputs": [],
   "source": [
    "df_final = pd.concat([cleaning_df_garden, df_min_station_names, df_min_station_names1], axis=1)"
   ]
  },
  {
   "cell_type": "markdown",
   "id": "98313140",
   "metadata": {},
   "source": [
    "Selecciono las columnas del df que concateno"
   ]
  },
  {
   "cell_type": "code",
   "execution_count": null,
   "id": "e45ddb7f",
   "metadata": {},
   "outputs": [],
   "source": [
    "df_final = df_final[['title', '@type', 'street-address', 'name2', 'address1']]"
   ]
  },
  {
   "cell_type": "markdown",
   "id": "5cebd1f4",
   "metadata": {},
   "source": [
    "Renombro las columnas para el resultado final que se pide"
   ]
  },
  {
   "cell_type": "code",
   "execution_count": null,
   "id": "80171f3f",
   "metadata": {},
   "outputs": [],
   "source": [
    "df_final = df_final.rename(columns={'title': 'Place of interest', '@type': 'Type of place', 'street-address': 'Place address', 'name2': 'BiciMAD station', 'address1': 'Station location'})"
   ]
  },
  {
   "cell_type": "code",
   "execution_count": null,
   "id": "d9daac2d",
   "metadata": {},
   "outputs": [],
   "source": [
    "df_final.head()"
   ]
  },
  {
   "cell_type": "markdown",
   "id": "56d0f740",
   "metadata": {},
   "source": [
    "Cambiar los null por Jardínes"
   ]
  },
  {
   "cell_type": "code",
   "execution_count": null,
   "id": "ba3290fb",
   "metadata": {},
   "outputs": [],
   "source": [
    "df_final[\"Type of place\"].fillna(\"ParquesJardines\", inplace = True)"
   ]
  },
  {
   "cell_type": "code",
   "execution_count": null,
   "id": "6dee6d07",
   "metadata": {},
   "outputs": [],
   "source": [
    "# Separar con espacios tipo de lugar"
   ]
  },
  {
   "cell_type": "markdown",
   "id": "0ceda0da",
   "metadata": {},
   "source": []
  },
  {
   "cell_type": "code",
   "execution_count": null,
   "id": "7a06db86",
   "metadata": {},
   "outputs": [],
   "source": [
    "'''It must create, at least, a .csv file including the requested table (i.e. Main Challenge). \n",
    "Alternatively, you may create an image, pdf, plot or any other output format that you may find convenient. \n",
    "You may also send your output by e-mail, upload it to a cloud repository, etc.'''"
   ]
  },
  {
   "cell_type": "code",
   "execution_count": null,
   "id": "969c5bd8",
   "metadata": {},
   "outputs": [],
   "source": [
    "def result(dff):\n",
    "    dff.to_csv('./data/gardens.csv')  "
   ]
  },
  {
   "cell_type": "code",
   "execution_count": null,
   "id": "48f3b2f3",
   "metadata": {},
   "outputs": [],
   "source": [
    "result(df_final)"
   ]
  },
  {
   "cell_type": "code",
   "execution_count": null,
   "id": "2d618754",
   "metadata": {},
   "outputs": [],
   "source": []
  },
  {
   "cell_type": "markdown",
   "id": "71a6af03",
   "metadata": {},
   "source": [
    "Imports modules"
   ]
  },
  {
   "cell_type": "code",
   "execution_count": null,
   "id": "eaae7937",
   "metadata": {},
   "outputs": [],
   "source": [
    "import argparse\n",
    "from p_acquisition import m_acquisition as mac\n",
    "from p_wrangling import m_wrangling as mwr\n",
    "from p_analysis import m_analysis as man \n",
    "from p_reporting import m_reporting as mre\n"
   ]
  },
  {
   "cell_type": "markdown",
   "id": "d79cf18b",
   "metadata": {},
   "source": [
    "argument parser"
   ]
  },
  {
   "cell_type": "code",
   "execution_count": null,
   "id": "5e3c0842",
   "metadata": {},
   "outputs": [],
   "source": [
    "def argument_parser():\n",
    "    parser = argparse.ArgumentParser(description = 'Place or type of places')\n",
    "    parser.add_argument(\"-o\", \"--one\", help=\"Select a place\", action=\"store_true\")\n",
    "    parser.add_argument(\"-t\", \"--type\", help=\"Select type of place\", action=\"store_true\")\n",
    "    args = parser.parse_args()\n",
    "    return args"
   ]
  },
  {
   "cell_type": "code",
   "execution_count": null,
   "id": "d994e580",
   "metadata": {},
   "outputs": [],
   "source": [
    "def argument_parser():\n",
    "    parser = argparse.ArgumentParser(description = 'Set chart type')\n",
    "    parser.add_argument(\"-b\", \"--bar\", help=\"Produce a barplot\", action=\"store_true\")\n",
    "    parser.add_argument(\"-l\", \"--line\", help=\"Produce a lineplot\", action=\"store_true\")\n",
    "    args = parser.parse_args()\n",
    "    return args"
   ]
  },
  {
   "cell_type": "markdown",
   "id": "432ce5fe",
   "metadata": {},
   "source": [
    "main"
   ]
  },
  {
   "cell_type": "code",
   "execution_count": null,
   "id": "08cfa425",
   "metadata": {},
   "outputs": [],
   "source": [
    "def main(some_args):\n",
    "    data\n",
    "    wrangling\n",
    "    distances\n",
    "    wrangling\n",
    "    csv"
   ]
  },
  {
   "cell_type": "code",
   "execution_count": null,
   "id": "df40f2b5",
   "metadata": {},
   "outputs": [],
   "source": [
    "def main(some_args):\n",
    "    data = mac.acquire()\n",
    "    filtered = mwr.wrangle(data, year)\n",
    "    results = man.analyze(filtered)\n",
    "    fig = mre.plotting_function(results, title, arguments)\n",
    "    mre.save_viz(fig, title)\n",
    "    print('============= Pipeline is complete. You may find the results in the folder ./data/results ==============')"
   ]
  },
  {
   "cell_type": "markdown",
   "id": "495ce27c",
   "metadata": {},
   "source": [
    "if __name__ == '__main__'"
   ]
  },
  {
   "cell_type": "code",
   "execution_count": null,
   "id": "fa2980bc",
   "metadata": {},
   "outputs": [],
   "source": [
    "if __name__ == '__main__':\n",
    "    place = input('Enter the place: ')\n",
    "    places = input('Enter the type of place: ')\n",
    "    title = 'The station near of the place'\n",
    "    arguments = argument_parser()\n",
    "    main(arguments)"
   ]
  },
  {
   "cell_type": "code",
   "execution_count": null,
   "id": "048e09a6",
   "metadata": {},
   "outputs": [],
   "source": [
    "if __name__ == '__main__':\n",
    "    year = int(input('Enter the year: '))\n",
    "    title = 'Top 10 Manufacturers by Fuel Efficiency ' + str(year)\n",
    "    arguments = argument_parser()\n",
    "    main(arguments)"
   ]
  }
 ],
 "metadata": {
  "kernelspec": {
   "display_name": "Python [conda env:pro_m1]",
   "language": "python",
   "name": "conda-env-pro_m1-py"
  },
  "language_info": {
   "codemirror_mode": {
    "name": "ipython",
    "version": 3
   },
   "file_extension": ".py",
   "mimetype": "text/x-python",
   "name": "python",
   "nbconvert_exporter": "python",
   "pygments_lexer": "ipython3",
   "version": "3.9.16"
  }
 },
 "nbformat": 4,
 "nbformat_minor": 5
}
