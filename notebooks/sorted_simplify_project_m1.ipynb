{
 "cells": [
  {
   "cell_type": "code",
   "execution_count": null,
   "id": "c916890c",
   "metadata": {},
   "outputs": [],
   "source": [
    "import requests\n",
    "import json\n",
    "import pandas as pd\n",
    "import numpy as np\n",
    "import re\n",
    "import os\n",
    "import duckdb\n",
    "from shapely.geometry import Point\n",
    "import geopandas as gpd\n",
    "from modules import geo_calculations\n",
    "pd.options.display.max_columns = None\n",
    "pd.options.display.max_rows = None"
   ]
  },
  {
   "cell_type": "markdown",
   "id": "d6cb6e54",
   "metadata": {},
   "source": [
    "Data places"
   ]
  },
  {
   "cell_type": "code",
   "execution_count": null,
   "id": "5da98a36",
   "metadata": {},
   "outputs": [],
   "source": [
    "\n",
    "\n",
    "response = requests.get('https://datos.madrid.es/egob/catalogo/200761-0-parques-jardines.json')\n",
    "results_api = response.json()\n",
    "list_api_garden = results_api['@graph']\n",
    "df_garden = pd.DataFrame(list_api_garden)\n",
    "df_garden_location = df_garden[\"location\"].apply(pd.Series)\n",
    "df_garden_address = df_garden[\"address\"].apply(pd.Series)\n",
    "df_garden_type = df_garden[\"@type\"].str.replace('https://datos.madrid.es/egob/kos/entidadesYorganismos/', '')\n",
    "both_df_garden = pd.concat([df_garden[['title']], df_garden_location, df_garden_address, df_garden_type], axis = 1)\n",
    "cleaning_df_garden = both_df_garden[['title', '@type', 'locality', 'postal-code', 'street-address', 'latitude', 'longitude']]\n",
    "\n",
    "\n",
    "\n"
   ]
  },
  {
   "cell_type": "markdown",
   "id": "1a79a027",
   "metadata": {},
   "source": [
    "Data stations"
   ]
  },
  {
   "cell_type": "code",
   "execution_count": null,
   "id": "2f134600",
   "metadata": {},
   "outputs": [],
   "source": [
    "db_bicimad = duckdb.connect('bicimad1.db')\n",
    "df_bicimad = db_bicimad.sql('select * from bicimad_stations').df()\n",
    "df_bicimad[['longitude', 'latitude']] = df_bicimad[\"geometry.coordinates\"].apply(lambda x: pd.Series(str(x).replace('[','').replace(']','').split(\",\")))\n",
    "df_bicimad = df_bicimad[['name', 'address', 'latitude', 'longitude',]]\n",
    "\n",
    "\n"
   ]
  },
  {
   "cell_type": "markdown",
   "id": "44a5f200",
   "metadata": {},
   "source": [
    "distancias"
   ]
  },
  {
   "cell_type": "code",
   "execution_count": null,
   "id": "7520fa8f",
   "metadata": {},
   "outputs": [],
   "source": [
    "%%time\n",
    "distance=[]\n",
    "for index, row in cleaning_df_garden.iterrows():\n",
    "    for index, j in df_bicimad.iterrows():\n",
    "        distance.append(distance_meters(float(row['latitude']), float(row['longitude']), float(j['latitude']), float(j['longitude'])))\n",
    "        \n",
    "list_df_coordinates=[]\n",
    "count=0\n",
    "list_list = []\n",
    "for i in distance:\n",
    "    if count != 264:\n",
    "        count = count + 1\n",
    "        list_list.append(i)\n",
    "    if count == 264: # = rows of stations --> df_bicimad(rows)\n",
    "        count = 0\n",
    "        list_df_coordinates.append(list_list)\n",
    "        list_list = []\n",
    "                \n",
    "df_coordinates = pd.DataFrame(list_df_coordinates)\n",
    "        \n",
    "def wrangcoor(coor):\n",
    "    coor.astype(str)\n",
    "    coor.applymap(re.sub('[^0-9\\.]+', '', coor))\n",
    "    coor.astype(float)\n",
    "    coorm = coor.min(axis=1)\n",
    "    coorm.to_dict()\n",
    "    coor.to_dict()\n",
    "    dict_min_station = {}\n",
    "    for keys1, values1 in coor.items():\n",
    "        for key_a, value_a in values1.items():\n",
    "            for key_min, value_min in coorm.items():\n",
    "                if value_a == value_min:\n",
    "                    coorm[key_min] = (value_min, keys1)\n",
    "                    coorm = dict(sorted(coorm.items()))        \n",
    "                    df_min_station=pd.DataFrame.from_dict(coorm, orient='index')        \n",
    "                    df_min_station.rename(columns={1: \"index_garden\"}, inplace=True)     \n",
    "                    return df_min_station\n",
    "        \n",
    "\n",
    "df_bicimad['index'] = df_bicimad.index\n",
    "\n",
    "\n",
    "df_bicimad.rename(columns={\"index\": \"1a\"}, inplace=True)\n",
    "\n",
    "\n",
    "list_min_station_names = {}\n",
    "count = 0\n",
    "for index, row1 in df_min_station.iterrows():\n",
    "    for index, row2 in df_bicimad.iterrows():\n",
    "        if row1['1a'] == row2['1a']:\n",
    "            list_min_station_names[count]= (row2['name'], row2['address'])\n",
    "            count = count +1\n",
    "\n",
    "df_min_station_names = pd.DataFrame(list_min_station_names)            \n",
    "            \n",
    "df_min_station_names = df_min_station_names.transpose()            \n",
    "            \n",
    "df_min_station_names.rename(columns={0: \"name1\", 1:'address1'}, inplace=True)            \n",
    "\n",
    "df_min_station_names1 = df_min_station_names['name1'].apply(lambda x: pd.Series(str(x).split('-')))\n",
    "\n",
    "df_min_station_names1.rename(columns={0: \"numberof\", 1:'name2', 2:'null'}, inplace=True)\n",
    "\n",
    "df_final = pd.concat([cleaning_df_garden, df_min_station_names, df_min_station_names1], axis=1)\n",
    "\n",
    "df_final = df_final[['title', '@type', 'street-address', 'name2', 'address1']]\n",
    "\n",
    "df_final = df_final.rename(columns={'title': 'Place of interest', '@type': 'Type of place', 'street-address': 'Place address', 'name2': 'BiciMAD station', 'address1': 'Station location'})\n",
    "\n",
    "df_final[\"Type of place\"].fillna(\"ParquesJardines\", inplace = True)\n",
    "\n",
    "\n",
    "\n",
    "\n",
    "\n"
   ]
  },
  {
   "cell_type": "markdown",
   "id": "d2ea1b6f",
   "metadata": {},
   "source": [
    "Reporting"
   ]
  },
  {
   "cell_type": "code",
   "execution_count": null,
   "id": "a4661316",
   "metadata": {},
   "outputs": [],
   "source": [
    "def result(dff):\n",
    "    dff.to_csv('./data/gardens.csv')\n"
   ]
  },
  {
   "cell_type": "code",
   "execution_count": null,
   "id": "ffc09e3b",
   "metadata": {},
   "outputs": [],
   "source": []
  },
  {
   "cell_type": "code",
   "execution_count": null,
   "id": "f36fbf96",
   "metadata": {},
   "outputs": [],
   "source": []
  },
  {
   "cell_type": "code",
   "execution_count": null,
   "id": "7e0b6c72",
   "metadata": {},
   "outputs": [],
   "source": []
  },
  {
   "cell_type": "code",
   "execution_count": null,
   "id": "a417fb3e",
   "metadata": {},
   "outputs": [],
   "source": []
  },
  {
   "cell_type": "code",
   "execution_count": null,
   "id": "8752207b",
   "metadata": {},
   "outputs": [],
   "source": []
  },
  {
   "cell_type": "code",
   "execution_count": null,
   "id": "7b5c1b13",
   "metadata": {},
   "outputs": [],
   "source": []
  },
  {
   "cell_type": "code",
   "execution_count": null,
   "id": "2c7fdd71",
   "metadata": {},
   "outputs": [],
   "source": []
  },
  {
   "cell_type": "code",
   "execution_count": null,
   "id": "46caca98",
   "metadata": {},
   "outputs": [],
   "source": []
  },
  {
   "cell_type": "code",
   "execution_count": null,
   "id": "5a26bcf3",
   "metadata": {},
   "outputs": [],
   "source": []
  },
  {
   "cell_type": "code",
   "execution_count": null,
   "id": "42ff2220",
   "metadata": {},
   "outputs": [],
   "source": []
  },
  {
   "cell_type": "code",
   "execution_count": null,
   "id": "d8c4b26f",
   "metadata": {},
   "outputs": [],
   "source": []
  },
  {
   "cell_type": "code",
   "execution_count": null,
   "id": "573e54f9",
   "metadata": {},
   "outputs": [],
   "source": []
  },
  {
   "cell_type": "code",
   "execution_count": null,
   "id": "d2aa08e7",
   "metadata": {},
   "outputs": [],
   "source": []
  },
  {
   "cell_type": "code",
   "execution_count": null,
   "id": "4ff0487d",
   "metadata": {},
   "outputs": [],
   "source": []
  },
  {
   "cell_type": "code",
   "execution_count": null,
   "id": "f0b1366c",
   "metadata": {},
   "outputs": [],
   "source": []
  },
  {
   "cell_type": "code",
   "execution_count": null,
   "id": "9bb58db5",
   "metadata": {},
   "outputs": [],
   "source": []
  },
  {
   "cell_type": "code",
   "execution_count": null,
   "id": "fe7b62a9",
   "metadata": {},
   "outputs": [],
   "source": []
  },
  {
   "cell_type": "code",
   "execution_count": null,
   "id": "e5ecfb55",
   "metadata": {},
   "outputs": [],
   "source": []
  },
  {
   "cell_type": "code",
   "execution_count": null,
   "id": "8183576b",
   "metadata": {},
   "outputs": [],
   "source": []
  },
  {
   "cell_type": "code",
   "execution_count": null,
   "id": "ef79481a",
   "metadata": {},
   "outputs": [],
   "source": []
  },
  {
   "cell_type": "code",
   "execution_count": null,
   "id": "9690b255",
   "metadata": {},
   "outputs": [],
   "source": []
  },
  {
   "cell_type": "code",
   "execution_count": null,
   "id": "77d155e3",
   "metadata": {},
   "outputs": [],
   "source": []
  },
  {
   "cell_type": "code",
   "execution_count": null,
   "id": "db1119b5",
   "metadata": {},
   "outputs": [],
   "source": []
  },
  {
   "cell_type": "code",
   "execution_count": null,
   "id": "b3bca0ac",
   "metadata": {},
   "outputs": [],
   "source": []
  }
 ],
 "metadata": {
  "kernelspec": {
   "display_name": "Python [conda env:pro_m1]",
   "language": "python",
   "name": "conda-env-pro_m1-py"
  },
  "language_info": {
   "codemirror_mode": {
    "name": "ipython",
    "version": 3
   },
   "file_extension": ".py",
   "mimetype": "text/x-python",
   "name": "python",
   "nbconvert_exporter": "python",
   "pygments_lexer": "ipython3",
   "version": "3.9.16"
  }
 },
 "nbformat": 4,
 "nbformat_minor": 5
}
