{
 "cells": [
  {
   "cell_type": "markdown",
   "id": "31740956",
   "metadata": {},
   "source": [
    "#### Wrangling\n",
    "---"
   ]
  },
  {
   "cell_type": "markdown",
   "id": "b3340251",
   "metadata": {},
   "source": [
    "Gardens"
   ]
  },
  {
   "cell_type": "code",
   "execution_count": null,
   "id": "44698fb3",
   "metadata": {},
   "outputs": [],
   "source": [
    "def wrngling_graden(result_api):\n",
    "    results_api['@graph']\n",
    "    pd.DataFrame(list_api_garden)\n",
    "    df_garden[\"location\"].apply(pd.Series)\n",
    "    df_garden[\"address\"].apply(pd.Series)\n",
    "    df_garden[\"@type\"].str.replace('https://datos.madrid.es/egob/kos/entidadesYorganismos/', '')\n",
    "    pd.concat([df_garden[['title']], df_garden_location, df_garden_address, df_garden_type], axis = 1)\n",
    "    both_df_garden[['title', '@type', 'locality', 'postal-code', 'street-address', 'latitude', 'longitude']]\n",
    "    cleaning_df_garden[\"Type of place\"].fillna(\"ParquesJardines\", inplace = True)\n",
    "    return df_garden"
   ]
  },
  {
   "cell_type": "markdown",
   "id": "8ce403fa",
   "metadata": {},
   "source": [
    "bicimad"
   ]
  },
  {
   "cell_type": "code",
   "execution_count": null,
   "id": "d77f1a3f",
   "metadata": {},
   "outputs": [],
   "source": [
    "def wrangling_bicimad(df_bicimad):\n",
    "    df_bicimad[['longitude', 'latitude']] = df_bicimad[\"geometry.coordinates\"].apply(lambda x: pd.Series(str(x).replace('[','').replace(']','').split(\",\")))\n",
    "    df_bicimad = df_bicimad[['name', 'address', 'latitude', 'longitude',]]\n",
    "    df_bicimad['index'] = df_bicimad.index\n",
    "    df_bicimad.rename(columns={\"index\": \"1a\"}, inplace=True)\n",
    "    return df_bicimad"
   ]
  }
 ],
 "metadata": {
  "kernelspec": {
   "display_name": "Python [conda env:pro_m1]",
   "language": "python",
   "name": "conda-env-pro_m1-py"
  },
  "language_info": {
   "codemirror_mode": {
    "name": "ipython",
    "version": 3
   },
   "file_extension": ".py",
   "mimetype": "text/x-python",
   "name": "python",
   "nbconvert_exporter": "python",
   "pygments_lexer": "ipython3",
   "version": "3.9.16"
  }
 },
 "nbformat": 4,
 "nbformat_minor": 5
}
