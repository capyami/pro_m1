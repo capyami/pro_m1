{
 "cells": [
  {
   "cell_type": "markdown",
   "id": "53759820",
   "metadata": {},
   "source": [
    "#  Project m1"
   ]
  },
  {
   "cell_type": "markdown",
   "id": "c292d9a0",
   "metadata": {},
   "source": [
    "### Data adquisition"
   ]
  },
  {
   "cell_type": "markdown",
   "id": "561228f7",
   "metadata": {},
   "source": [
    "### imports libraries"
   ]
  },
  {
   "cell_type": "code",
   "execution_count": 1,
   "id": "73e10381",
   "metadata": {},
   "outputs": [],
   "source": [
    "import requests\n",
    "import json\n",
    "import pandas as pd\n",
    "pd.options.display.max_columns = None"
   ]
  },
  {
   "cell_type": "code",
   "execution_count": 2,
   "id": "00464951",
   "metadata": {},
   "outputs": [],
   "source": [
    "# endpoint API Madrid"
   ]
  },
  {
   "cell_type": "code",
   "execution_count": 3,
   "id": "bc4aa9d2",
   "metadata": {},
   "outputs": [
    {
     "data": {
      "text/plain": [
       "dict_keys(['@context', '@graph'])"
      ]
     },
     "execution_count": 3,
     "metadata": {},
     "output_type": "execute_result"
    }
   ],
   "source": [
    "response = requests.get('https://datos.madrid.es/egob/catalogo/200761-0-parques-jardines.json')\n",
    "results = response.json()\n",
    "results.keys()"
   ]
  },
  {
   "cell_type": "code",
   "execution_count": 4,
   "id": "1576ca59",
   "metadata": {},
   "outputs": [
    {
     "data": {
      "text/plain": [
       "{'c': 'http://www.w3.org/2002/12/cal#',\n",
       " 'dcterms': 'http://purl.org/dc/terms/',\n",
       " 'geo': 'http://www.w3.org/2003/01/geo/wgs84_pos#',\n",
       " 'loc': 'http://purl.org/ctic/infraestructuras/localizacion#',\n",
       " 'org': 'http://purl.org/ctic/infraestructuras/organizacion#',\n",
       " 'vcard': 'http://www.w3.org/2006/vcard/ns#',\n",
       " 'schema': 'https://schema.org/',\n",
       " 'title': 'vcard:fn',\n",
       " 'id': 'dcterms:identifier',\n",
       " 'relation': 'dcterms:relation',\n",
       " 'references': 'dcterms:references',\n",
       " 'address': 'vcard:adr',\n",
       " 'area': 'loc:barrio',\n",
       " 'district': 'loc:distrito',\n",
       " 'locality': 'vcard:locality',\n",
       " 'postal-code': 'vcard:postal-code',\n",
       " 'street-address': 'vcard:street-address',\n",
       " 'location': 'vcard:geo',\n",
       " 'latitude': 'geo:lat',\n",
       " 'longitude': 'geo:long',\n",
       " 'organization': 'vcard:org',\n",
       " 'organization-desc': 'dcterms:description',\n",
       " 'accesibility': 'org:accesibilidad',\n",
       " 'services': 'org:servicios',\n",
       " 'schedule': 'org:horario',\n",
       " 'organization-name': 'vcard:organization-name',\n",
       " 'description': 'c:summary',\n",
       " 'link': 'c:url',\n",
       " 'uid': 'c:uid',\n",
       " 'dtstart': 'c:dtstart',\n",
       " 'dtend': 'c:dtend',\n",
       " 'time': 'c:time',\n",
       " 'excluded-days': 'c:exdate',\n",
       " 'event-location': 'c:location',\n",
       " 'free': 'schema:free',\n",
       " 'price': 'c:resource',\n",
       " 'recurrence': 'c:rrule',\n",
       " 'days': 'c:byday',\n",
       " 'frequency': 'c:freq',\n",
       " 'interval': 'c:interval',\n",
       " 'audience': 'dc:audience'}"
      ]
     },
     "execution_count": 4,
     "metadata": {},
     "output_type": "execute_result"
    }
   ],
   "source": [
    "results['@context']"
   ]
  },
  {
   "cell_type": "code",
   "execution_count": 5,
   "id": "15bdc95f",
   "metadata": {},
   "outputs": [
    {
     "data": {
      "text/plain": [
       "{'@id': 'https://datos.madrid.es/egob/catalogo/tipo/entidadesyorganismos/6010361-jardines-san-francisco-grande.json',\n",
       " '@type': 'https://datos.madrid.es/egob/kos/entidadesYorganismos/ParquesJardines/ColeccionesBotanicas',\n",
       " 'id': '6010361',\n",
       " 'title': 'Jardines San Francisco el Grande',\n",
       " 'relation': 'http://www.madrid.es/sites/v/index.jsp?vgnextchannel=bfa48ab43d6bb410VgnVCM100000171f5a0aRCRD&vgnextoid=ffe7a3575e2ee210VgnVCM2000000c205a0aRCRD',\n",
       " 'address': {'district': {'@id': 'https://datos.madrid.es/egob/kos/Provincia/Madrid/Municipio/Madrid/Distrito/Centro'},\n",
       "  'area': {'@id': 'https://datos.madrid.es/egob/kos/Provincia/Madrid/Municipio/Madrid/Distrito/Centro/Barrio/Palacio'},\n",
       "  'locality': 'MADRID',\n",
       "  'postal-code': '28005',\n",
       "  'street-address': 'AVENIDA GRAN VIA DE SAN FRANCISCO 29'},\n",
       " 'location': {'latitude': 40.40714274084601, 'longitude': -3.7121666160537057},\n",
       " 'organization': {'organization-desc': 'Este jardín se encuentra en el solar de 4.200 metros cuadrados donde estuvo el antiguo convento de San Francisco, demolido a mediados del siglo XX por encontrarse en ruinas. Hasta 2007 no tuvo ningún uso y fue en ese año cuando el Ayuntamiento de Madrid convirtió el espacio en un jardín temático de dalias, la antigua Dalieda de San Francisco. Posteriormente, en 2016,  se modificó  la composición de las plantaciones y se apostó por los rosales debido a su gran capacidad de adaptación al clima madrileño y a su mayor floración. En la actualidad los Jardines de San Francisco el Grande cuenta con 21 variedades de rosales que alcanzan su máxima esplendor en los meses de mayo y junio. El parque encuentra en una zona denominada &amp;ldquo;Las Vistillas&amp;rdquo; por ser la más alta del Madrid de los Austrias y su mirador se ha convertido en uno de los lugares más transitados para ver puestas de sol en la ciudad. Antecede al mirador el grupo escultórico San Isidro Labrador, obra en la que se representa al patrón de Madrid recostado y a un ángel que posa una mano sobre su cabeza para inducirle a dormir. Esta fue una de las esculturas que realizó Santiago Costa en 1952 para homenajear al arquitecto Juan de Villanueva. Su emplazamiento original fue la fuente de la glorieta de San Vicente, donde estuvo hasta 1995.\\xa0Conservación:Dirección General de Gestión del Agua y Zonas Verdes. Área de Gobierno de Medio Ambiente y Movilidad   Superficie: 4.242 m2    % Especies predominantes (nombre común) con respecto a especies principales:Árboles. N&amp;ordm; total de unidades arbóreas: 72Liquidambar 24%Magnolio 21%Forsitias 14%Cerezo silvestre 11% Arbustos N&amp;ordm; total de unidades arbustivas: 4 Juniperos 100% Macizos arbustivos. Superficie de macizos arbustivos: 1.082 m2  Escalonia 17%Juniperos 17%Forsitias 12%Cotoneaster horizontal 11%\\xa0Bus: 3, 60 y 148.  Servicio Bicimad, para consultar la estación más cercana, acceda al mapa de geolocalización de las estaciones.',\n",
       "  'accesibility': '2',\n",
       "  'schedule': '',\n",
       "  'services': '',\n",
       "  'organization-name': 'Jardines San Francisco el Grande'}}"
      ]
     },
     "execution_count": 5,
     "metadata": {},
     "output_type": "execute_result"
    }
   ],
   "source": [
    "list1 = results['@graph']\n",
    "list1[1]"
   ]
  },
  {
   "cell_type": "code",
   "execution_count": 6,
   "id": "b0b7b3f3",
   "metadata": {},
   "outputs": [
    {
     "data": {
      "text/plain": [
       "list"
      ]
     },
     "execution_count": 6,
     "metadata": {},
     "output_type": "execute_result"
    }
   ],
   "source": [
    "type(list1)"
   ]
  },
  {
   "cell_type": "code",
   "execution_count": 7,
   "id": "3ee72cff",
   "metadata": {},
   "outputs": [
    {
     "data": {
      "text/plain": [
       "203"
      ]
     },
     "execution_count": 7,
     "metadata": {},
     "output_type": "execute_result"
    }
   ],
   "source": [
    "len(list1)"
   ]
  },
  {
   "cell_type": "code",
   "execution_count": 8,
   "id": "4e4b840f",
   "metadata": {},
   "outputs": [
    {
     "data": {
      "text/plain": [
       "'dict1 = {}\\nfor i in list1:\\n    dict1.append(i)\\n    \\ntype(dict1)'"
      ]
     },
     "execution_count": 8,
     "metadata": {},
     "output_type": "execute_result"
    }
   ],
   "source": [
    "'''dict1 = {}\n",
    "for i in list1:\n",
    "    dict1.append(i)\n",
    "    \n",
    "type(dict1)'''"
   ]
  },
  {
   "cell_type": "code",
   "execution_count": 9,
   "id": "187fe924",
   "metadata": {},
   "outputs": [
    {
     "data": {
      "text/plain": [
       "'dict1 = {}\\nfor key,value in list1:\\n    dict1[key] = value  \\n    \\ndict1'"
      ]
     },
     "execution_count": 9,
     "metadata": {},
     "output_type": "execute_result"
    }
   ],
   "source": [
    "# for loop para sacar los dicts de la list?\n",
    "'''dict1 = {}\n",
    "for key,value in list1:\n",
    "    dict1[key] = value  \n",
    "    \n",
    "dict1'''"
   ]
  },
  {
   "cell_type": "code",
   "execution_count": 10,
   "id": "b376691d",
   "metadata": {},
   "outputs": [
    {
     "data": {
      "text/html": [
       "<div>\n",
       "<style scoped>\n",
       "    .dataframe tbody tr th:only-of-type {\n",
       "        vertical-align: middle;\n",
       "    }\n",
       "\n",
       "    .dataframe tbody tr th {\n",
       "        vertical-align: top;\n",
       "    }\n",
       "\n",
       "    .dataframe thead th {\n",
       "        text-align: right;\n",
       "    }\n",
       "</style>\n",
       "<table border=\"1\" class=\"dataframe\">\n",
       "  <thead>\n",
       "    <tr style=\"text-align: right;\">\n",
       "      <th></th>\n",
       "      <th>@id</th>\n",
       "      <th>@type</th>\n",
       "      <th>id</th>\n",
       "      <th>title</th>\n",
       "      <th>relation</th>\n",
       "      <th>address</th>\n",
       "      <th>location</th>\n",
       "      <th>organization</th>\n",
       "    </tr>\n",
       "  </thead>\n",
       "  <tbody>\n",
       "    <tr>\n",
       "      <th>0</th>\n",
       "      <td>https://datos.madrid.es/egob/catalogo/tipo/ent...</td>\n",
       "      <td>https://datos.madrid.es/egob/kos/entidadesYorg...</td>\n",
       "      <td>6070995</td>\n",
       "      <td>Jardines Gregorio Ordóñez</td>\n",
       "      <td>http://www.madrid.es/sites/v/index.jsp?vgnextc...</td>\n",
       "      <td>{'district': {'@id': 'https://datos.madrid.es/...</td>\n",
       "      <td>{'latitude': 40.43346186779773, 'longitude': -...</td>\n",
       "      <td>{'organization-desc': 'Jardines en memoria de ...</td>\n",
       "    </tr>\n",
       "    <tr>\n",
       "      <th>1</th>\n",
       "      <td>https://datos.madrid.es/egob/catalogo/tipo/ent...</td>\n",
       "      <td>https://datos.madrid.es/egob/kos/entidadesYorg...</td>\n",
       "      <td>6010361</td>\n",
       "      <td>Jardines San Francisco el Grande</td>\n",
       "      <td>http://www.madrid.es/sites/v/index.jsp?vgnextc...</td>\n",
       "      <td>{'district': {'@id': 'https://datos.madrid.es/...</td>\n",
       "      <td>{'latitude': 40.40714274084601, 'longitude': -...</td>\n",
       "      <td>{'organization-desc': 'Este jardín se encuentr...</td>\n",
       "    </tr>\n",
       "    <tr>\n",
       "      <th>2</th>\n",
       "      <td>https://datos.madrid.es/egob/catalogo/tipo/ent...</td>\n",
       "      <td>https://datos.madrid.es/egob/kos/entidadesYorg...</td>\n",
       "      <td>5964519</td>\n",
       "      <td>Jardines de Andrés Saborit</td>\n",
       "      <td>http://www.madrid.es/sites/v/index.jsp?vgnextc...</td>\n",
       "      <td>{'district': {'@id': 'https://datos.madrid.es/...</td>\n",
       "      <td>{'latitude': 40.44613326792272, 'longitude': -...</td>\n",
       "      <td>{'organization-desc': 'Jardines situados en la...</td>\n",
       "    </tr>\n",
       "    <tr>\n",
       "      <th>3</th>\n",
       "      <td>https://datos.madrid.es/egob/catalogo/tipo/ent...</td>\n",
       "      <td>https://datos.madrid.es/egob/kos/entidadesYorg...</td>\n",
       "      <td>5896013</td>\n",
       "      <td>Jardines de El Buen Retiro</td>\n",
       "      <td>http://www.madrid.es/sites/v/index.jsp?vgnextc...</td>\n",
       "      <td>{'district': {'@id': 'https://datos.madrid.es/...</td>\n",
       "      <td>{'latitude': 40.41964087412762, 'longitude': -...</td>\n",
       "      <td>{'organization-desc': 'Jardín Histórico Artíst...</td>\n",
       "    </tr>\n",
       "    <tr>\n",
       "      <th>4</th>\n",
       "      <td>https://datos.madrid.es/egob/catalogo/tipo/ent...</td>\n",
       "      <td>NaN</td>\n",
       "      <td>10984428</td>\n",
       "      <td>Jardines de Gloria Fuertes</td>\n",
       "      <td>http://www.madrid.es/sites/v/index.jsp?vgnextc...</td>\n",
       "      <td>{'district': {'@id': 'https://datos.madrid.es/...</td>\n",
       "      <td>{'latitude': 40.461517637696026, 'longitude': ...</td>\n",
       "      <td>{'organization-desc': 'Jardín dedicado a la po...</td>\n",
       "    </tr>\n",
       "    <tr>\n",
       "      <th>...</th>\n",
       "      <td>...</td>\n",
       "      <td>...</td>\n",
       "      <td>...</td>\n",
       "      <td>...</td>\n",
       "      <td>...</td>\n",
       "      <td>...</td>\n",
       "      <td>...</td>\n",
       "      <td>...</td>\n",
       "    </tr>\n",
       "    <tr>\n",
       "      <th>198</th>\n",
       "      <td>https://datos.madrid.es/egob/catalogo/tipo/ent...</td>\n",
       "      <td>https://datos.madrid.es/egob/kos/entidadesYorg...</td>\n",
       "      <td>6028228</td>\n",
       "      <td>Vivero Estufas de El Retiro</td>\n",
       "      <td>http://www.madrid.es/sites/v/index.jsp?vgnextc...</td>\n",
       "      <td>{'district': {'@id': 'https://datos.madrid.es/...</td>\n",
       "      <td>{'latitude': 40.409899256936335, 'longitude': ...</td>\n",
       "      <td>{'organization-desc': 'Recinto construido en 1...</td>\n",
       "    </tr>\n",
       "    <tr>\n",
       "      <th>199</th>\n",
       "      <td>https://datos.madrid.es/egob/catalogo/tipo/ent...</td>\n",
       "      <td>https://datos.madrid.es/egob/kos/entidadesYorg...</td>\n",
       "      <td>6028009</td>\n",
       "      <td>Vivero de la Casa de Campo</td>\n",
       "      <td>http://www.madrid.es/sites/v/index.jsp?vgnextc...</td>\n",
       "      <td>{'district': {'@id': 'https://datos.madrid.es/...</td>\n",
       "      <td>{'latitude': 40.41984158690351, 'longitude': -...</td>\n",
       "      <td>{'organization-desc': 'La primera noticia docu...</td>\n",
       "    </tr>\n",
       "    <tr>\n",
       "      <th>200</th>\n",
       "      <td>https://datos.madrid.es/egob/catalogo/tipo/ent...</td>\n",
       "      <td>NaN</td>\n",
       "      <td>6028007</td>\n",
       "      <td>Vivero municipal de Migas Calientes</td>\n",
       "      <td>http://www.madrid.es/sites/v/index.jsp?vgnextc...</td>\n",
       "      <td>{'district': {'@id': 'https://datos.madrid.es/...</td>\n",
       "      <td>{'latitude': 40.445355536117184, 'longitude': ...</td>\n",
       "      <td>{'organization-desc': 'Centro de producción do...</td>\n",
       "    </tr>\n",
       "    <tr>\n",
       "      <th>201</th>\n",
       "      <td>https://datos.madrid.es/egob/catalogo/tipo/ent...</td>\n",
       "      <td>https://datos.madrid.es/egob/kos/entidadesYorg...</td>\n",
       "      <td>6126515</td>\n",
       "      <td>Zona verde C/ Fresnedillas</td>\n",
       "      <td>http://www.madrid.es/sites/v/index.jsp?vgnextc...</td>\n",
       "      <td>{'district': {'@id': 'https://datos.madrid.es/...</td>\n",
       "      <td>{'latitude': 40.477263871475174, 'longitude': ...</td>\n",
       "      <td>{'organization-desc': 'Esta nueva zona verde e...</td>\n",
       "    </tr>\n",
       "    <tr>\n",
       "      <th>202</th>\n",
       "      <td>https://datos.madrid.es/egob/catalogo/tipo/ent...</td>\n",
       "      <td>https://datos.madrid.es/egob/kos/entidadesYorg...</td>\n",
       "      <td>6007791</td>\n",
       "      <td>Área Forestal de Tres Cantos</td>\n",
       "      <td>http://www.madrid.es/sites/v/index.jsp?vgnextc...</td>\n",
       "      <td>{'district': {'@id': 'https://datos.madrid.es/...</td>\n",
       "      <td>{'latitude': 40.582362517713584, 'longitude': ...</td>\n",
       "      <td>{'organization-desc': 'El Monte de Tres Cantos...</td>\n",
       "    </tr>\n",
       "  </tbody>\n",
       "</table>\n",
       "<p>203 rows × 8 columns</p>\n",
       "</div>"
      ],
      "text/plain": [
       "                                                   @id   \n",
       "0    https://datos.madrid.es/egob/catalogo/tipo/ent...  \\\n",
       "1    https://datos.madrid.es/egob/catalogo/tipo/ent...   \n",
       "2    https://datos.madrid.es/egob/catalogo/tipo/ent...   \n",
       "3    https://datos.madrid.es/egob/catalogo/tipo/ent...   \n",
       "4    https://datos.madrid.es/egob/catalogo/tipo/ent...   \n",
       "..                                                 ...   \n",
       "198  https://datos.madrid.es/egob/catalogo/tipo/ent...   \n",
       "199  https://datos.madrid.es/egob/catalogo/tipo/ent...   \n",
       "200  https://datos.madrid.es/egob/catalogo/tipo/ent...   \n",
       "201  https://datos.madrid.es/egob/catalogo/tipo/ent...   \n",
       "202  https://datos.madrid.es/egob/catalogo/tipo/ent...   \n",
       "\n",
       "                                                 @type        id   \n",
       "0    https://datos.madrid.es/egob/kos/entidadesYorg...   6070995  \\\n",
       "1    https://datos.madrid.es/egob/kos/entidadesYorg...   6010361   \n",
       "2    https://datos.madrid.es/egob/kos/entidadesYorg...   5964519   \n",
       "3    https://datos.madrid.es/egob/kos/entidadesYorg...   5896013   \n",
       "4                                                  NaN  10984428   \n",
       "..                                                 ...       ...   \n",
       "198  https://datos.madrid.es/egob/kos/entidadesYorg...   6028228   \n",
       "199  https://datos.madrid.es/egob/kos/entidadesYorg...   6028009   \n",
       "200                                                NaN   6028007   \n",
       "201  https://datos.madrid.es/egob/kos/entidadesYorg...   6126515   \n",
       "202  https://datos.madrid.es/egob/kos/entidadesYorg...   6007791   \n",
       "\n",
       "                                   title   \n",
       "0              Jardines Gregorio Ordóñez  \\\n",
       "1       Jardines San Francisco el Grande   \n",
       "2             Jardines de Andrés Saborit   \n",
       "3             Jardines de El Buen Retiro   \n",
       "4             Jardines de Gloria Fuertes   \n",
       "..                                   ...   \n",
       "198          Vivero Estufas de El Retiro   \n",
       "199           Vivero de la Casa de Campo   \n",
       "200  Vivero municipal de Migas Calientes   \n",
       "201           Zona verde C/ Fresnedillas   \n",
       "202         Área Forestal de Tres Cantos   \n",
       "\n",
       "                                              relation   \n",
       "0    http://www.madrid.es/sites/v/index.jsp?vgnextc...  \\\n",
       "1    http://www.madrid.es/sites/v/index.jsp?vgnextc...   \n",
       "2    http://www.madrid.es/sites/v/index.jsp?vgnextc...   \n",
       "3    http://www.madrid.es/sites/v/index.jsp?vgnextc...   \n",
       "4    http://www.madrid.es/sites/v/index.jsp?vgnextc...   \n",
       "..                                                 ...   \n",
       "198  http://www.madrid.es/sites/v/index.jsp?vgnextc...   \n",
       "199  http://www.madrid.es/sites/v/index.jsp?vgnextc...   \n",
       "200  http://www.madrid.es/sites/v/index.jsp?vgnextc...   \n",
       "201  http://www.madrid.es/sites/v/index.jsp?vgnextc...   \n",
       "202  http://www.madrid.es/sites/v/index.jsp?vgnextc...   \n",
       "\n",
       "                                               address   \n",
       "0    {'district': {'@id': 'https://datos.madrid.es/...  \\\n",
       "1    {'district': {'@id': 'https://datos.madrid.es/...   \n",
       "2    {'district': {'@id': 'https://datos.madrid.es/...   \n",
       "3    {'district': {'@id': 'https://datos.madrid.es/...   \n",
       "4    {'district': {'@id': 'https://datos.madrid.es/...   \n",
       "..                                                 ...   \n",
       "198  {'district': {'@id': 'https://datos.madrid.es/...   \n",
       "199  {'district': {'@id': 'https://datos.madrid.es/...   \n",
       "200  {'district': {'@id': 'https://datos.madrid.es/...   \n",
       "201  {'district': {'@id': 'https://datos.madrid.es/...   \n",
       "202  {'district': {'@id': 'https://datos.madrid.es/...   \n",
       "\n",
       "                                              location   \n",
       "0    {'latitude': 40.43346186779773, 'longitude': -...  \\\n",
       "1    {'latitude': 40.40714274084601, 'longitude': -...   \n",
       "2    {'latitude': 40.44613326792272, 'longitude': -...   \n",
       "3    {'latitude': 40.41964087412762, 'longitude': -...   \n",
       "4    {'latitude': 40.461517637696026, 'longitude': ...   \n",
       "..                                                 ...   \n",
       "198  {'latitude': 40.409899256936335, 'longitude': ...   \n",
       "199  {'latitude': 40.41984158690351, 'longitude': -...   \n",
       "200  {'latitude': 40.445355536117184, 'longitude': ...   \n",
       "201  {'latitude': 40.477263871475174, 'longitude': ...   \n",
       "202  {'latitude': 40.582362517713584, 'longitude': ...   \n",
       "\n",
       "                                          organization  \n",
       "0    {'organization-desc': 'Jardines en memoria de ...  \n",
       "1    {'organization-desc': 'Este jardín se encuentr...  \n",
       "2    {'organization-desc': 'Jardines situados en la...  \n",
       "3    {'organization-desc': 'Jardín Histórico Artíst...  \n",
       "4    {'organization-desc': 'Jardín dedicado a la po...  \n",
       "..                                                 ...  \n",
       "198  {'organization-desc': 'Recinto construido en 1...  \n",
       "199  {'organization-desc': 'La primera noticia docu...  \n",
       "200  {'organization-desc': 'Centro de producción do...  \n",
       "201  {'organization-desc': 'Esta nueva zona verde e...  \n",
       "202  {'organization-desc': 'El Monte de Tres Cantos...  \n",
       "\n",
       "[203 rows x 8 columns]"
      ]
     },
     "execution_count": 10,
     "metadata": {},
     "output_type": "execute_result"
    }
   ],
   "source": [
    "df = pd.DataFrame(list1)\n",
    "df"
   ]
  },
  {
   "cell_type": "code",
   "execution_count": 33,
   "id": "47b9fa42",
   "metadata": {},
   "outputs": [
    {
     "data": {
      "text/plain": [
       "0             6070995 jardines gregorio ordonez\n",
       "1         6010361 jardines san francisco grande\n",
       "2               5964519 jardines andres saborit\n",
       "3                  5896013 jardines buen retiro\n",
       "4              10984428 jardines gloria fuertes\n",
       "                         ...                   \n",
       "198               6028228 vivero estufas retiro\n",
       "199                   6028009 vivero casa campo\n",
       "200    6028007 vivero municipal migas calientes\n",
       "201           6126515 zona verde c fresnedillas\n",
       "202           6007791 area forestal tres cantos\n",
       "Name: @id, Length: 203, dtype: object"
      ]
     },
     "execution_count": 33,
     "metadata": {},
     "output_type": "execute_result"
    }
   ],
   "source": [
    "# no pide esto, ya está en title... :/\n",
    "df_id = df['@id'].str.replace('https://datos.madrid.es/egob/catalogo/tipo/entidadesyorganismos/', '').str.replace('.json', '').str.replace('-', ' ')\n",
    "\n",
    "\n",
    "df_id"
   ]
  },
  {
   "cell_type": "code",
   "execution_count": 12,
   "id": "04e52625",
   "metadata": {},
   "outputs": [
    {
     "data": {
      "text/plain": [
       "pandas.core.series.Series"
      ]
     },
     "execution_count": 12,
     "metadata": {},
     "output_type": "execute_result"
    }
   ],
   "source": [
    "type(df_id)\n"
   ]
  },
  {
   "cell_type": "code",
   "execution_count": 13,
   "id": "a4a2e751",
   "metadata": {},
   "outputs": [],
   "source": [
    "# (cocncat by index left), pd.merge(df_title, df_location,...)"
   ]
  },
  {
   "cell_type": "code",
   "execution_count": 14,
   "id": "2ac30fa4",
   "metadata": {},
   "outputs": [],
   "source": [
    "# address"
   ]
  },
  {
   "cell_type": "code",
   "execution_count": 15,
   "id": "80d6ac3a",
   "metadata": {},
   "outputs": [],
   "source": [
    "# location"
   ]
  },
  {
   "cell_type": "code",
   "execution_count": 57,
   "id": "5dad7d5f",
   "metadata": {},
   "outputs": [
    {
     "name": "stdout",
     "output_type": "stream",
     "text": [
      "dict_keys(['latitude', 'longitude'])\n"
     ]
    },
    {
     "data": {
      "text/plain": [
       "dict_values"
      ]
     },
     "execution_count": 57,
     "metadata": {},
     "output_type": "execute_result"
    }
   ],
   "source": [
    "df_location = df['location']\n",
    "print(df_location[1].keys())\n",
    "location_values0 = df_location[0].values()\n",
    "type(location_values0)"
   ]
  },
  {
   "cell_type": "code",
   "execution_count": 58,
   "id": "8303c836",
   "metadata": {},
   "outputs": [],
   "source": [
    "# crear dos columnas, primer value en letitude, segundo value en longitude\n",
    "# apply lambda"
   ]
  },
  {
   "cell_type": "code",
   "execution_count": 59,
   "id": "6f12afe1",
   "metadata": {},
   "outputs": [
    {
     "data": {
      "text/plain": [
       "dict_values([40.43346186779773, -3.6785954778654113])"
      ]
     },
     "execution_count": 59,
     "metadata": {},
     "output_type": "execute_result"
    }
   ],
   "source": [
    "location_values0"
   ]
  },
  {
   "cell_type": "code",
   "execution_count": 55,
   "id": "1f2aa5c5",
   "metadata": {},
   "outputs": [
    {
     "data": {
      "text/plain": [
       "dict_values([40.43346186779773, -3.6785954778654113])"
      ]
     },
     "execution_count": 55,
     "metadata": {},
     "output_type": "execute_result"
    }
   ],
   "source": [
    "location_values"
   ]
  },
  {
   "cell_type": "code",
   "execution_count": null,
   "id": "25e30aa3",
   "metadata": {},
   "outputs": [],
   "source": [
    "# crear un def para un apply para más visible\n",
    "#def clean_money(money):\n",
    "#    pass\n",
    "#df5['Sales'] = df5['Sales'].apply(clean_money)"
   ]
  },
  {
   "cell_type": "code",
   "execution_count": 72,
   "id": "b08d75e9",
   "metadata": {},
   "outputs": [
    {
     "data": {
      "text/plain": [
       "{0: {'latitude': 40.43346186779773, 'longitude': -3.6785954778654113},\n",
       " 1: {'latitude': 40.40714274084601, 'longitude': -3.7121666160537057},\n",
       " 2: {'latitude': 40.44613326792272, 'longitude': -3.6989699295578347},\n",
       " 3: {'latitude': 40.41964087412762, 'longitude': -3.68793370943788},\n",
       " 4: {'latitude': 40.461517637696026, 'longitude': -3.6751179007317614},\n",
       " 5: {'latitude': 40.410944943237865, 'longitude': -3.660501733743551},\n",
       " 6: {'latitude': 40.45257591499544, 'longitude': -3.6957817548357257},\n",
       " 7: {'latitude': 40.419911287101144, 'longitude': -3.713185308888602},\n",
       " 8: {'latitude': 40.45978849094378, 'longitude': -3.687352342212426},\n",
       " 9: {'latitude': 40.458706953002235, 'longitude': -3.6934625569379387},\n",
       " 10: {'latitude': 40.44903638127448, 'longitude': -3.695615530710886},\n",
       " 11: {'latitude': 40.43137597367309, 'longitude': -3.7064685006782208},\n",
       " 12: {'latitude': 40.43285328749453, 'longitude': -3.697594475998512},\n",
       " 13: {'latitude': 40.43247362678542, 'longitude': -3.7007855621824293},\n",
       " 14: {'latitude': 40.41835486065351, 'longitude': -3.712838830603048},\n",
       " 15: {'latitude': 40.42620255233654, 'longitude': -3.6934468983675846},\n",
       " 16: {'latitude': 40.41476219795408, 'longitude': -3.7154411142835397},\n",
       " 17: {'latitude': 40.45558642017734, 'longitude': -3.6970275649098454},\n",
       " 18: {'latitude': 40.41281392212301, 'longitude': -3.7143597156687056},\n",
       " 19: {'latitude': 40.42640449792336, 'longitude': -3.7002981748621955},\n",
       " 20: {'latitude': 40.42518540300912, 'longitude': -3.6887800207651495},\n",
       " 21: {'latitude': 40.45454215758879, 'longitude': -3.6893863385035783},\n",
       " 22: {'latitude': 40.4530917282714, 'longitude': -3.6893833082867062},\n",
       " 23: {'latitude': 40.413417349090764, 'longitude': -3.711466649831885},\n",
       " 24: {'latitude': 40.373745996607155, 'longitude': -3.712180056298639},\n",
       " 25: {'latitude': 40.43304334055123, 'longitude': -3.712227582685096},\n",
       " 26: {'latitude': 40.402080397498985, 'longitude': -3.714965086287463},\n",
       " 27: {'latitude': 40.40148810908036, 'longitude': -3.713132255123738},\n",
       " 28: {'latitude': 40.414757673901924, 'longitude': -3.7161718357850444},\n",
       " 29: {'latitude': 40.481785094079584, 'longitude': -3.660098332215654},\n",
       " 30: {'latitude': 40.41418990040181, 'longitude': -3.7118283820550775},\n",
       " 31: {'latitude': 40.38418473435094, 'longitude': -3.685817452497564},\n",
       " 32: {'latitude': 40.41631909566782, 'longitude': -3.712793771176405},\n",
       " 33: {'latitude': 40.37089825532696, 'longitude': -3.618365854832584},\n",
       " 34: {'latitude': 40.4390037057741, 'longitude': -3.6905481652485355},\n",
       " 35: {'latitude': 40.3957812018463, 'longitude': -3.6670346724676173},\n",
       " 36: {'latitude': 40.404491323444994, 'longitude': -3.7213308239798675},\n",
       " 37: {'latitude': 40.42425096551599, 'longitude': -3.716531855540272},\n",
       " 38: {'latitude': 40.37740868500615, 'longitude': -3.6206400361863036},\n",
       " 39: {'latitude': 40.39218269145896, 'longitude': -3.7056345651289417},\n",
       " 40: {'latitude': 40.45446361509569, 'longitude': -3.6000964360303476},\n",
       " 41: {'latitude': 40.3933877847248, 'longitude': -3.698565632659468},\n",
       " 42: {'latitude': 40.47022952429582, 'longitude': -3.7038792453996385},\n",
       " 43: {'latitude': 40.40418961057298, 'longitude': -3.622901144863193},\n",
       " 44: {'latitude': 40.47098300036034, 'longitude': -3.6393251567222045},\n",
       " 45: {'latitude': 40.449252672650985, 'longitude': -3.7133420888843105},\n",
       " 46: {'latitude': 40.394320359418835, 'longitude': -3.7592814565910553},\n",
       " 47: {'latitude': 40.38543450752234, 'longitude': -3.765190215590101},\n",
       " 48: {'latitude': 40.36716919688689, 'longitude': -3.7136655626692887},\n",
       " 49: {'latitude': 40.428652595625735, 'longitude': -3.659649292346212},\n",
       " 50: {'latitude': 40.41192841997151, 'longitude': -3.67583331713166},\n",
       " 51: {'latitude': 40.43847239256322, 'longitude': -3.6087501533089923},\n",
       " 52: {'latitude': 40.39476596114844, 'longitude': -3.6361646051817518},\n",
       " 53: {'latitude': 40.49284296962057, 'longitude': -3.7169069720385446},\n",
       " 54: {'latitude': 40.45451429342977, 'longitude': -3.7856220495572703},\n",
       " 55: {'latitude': 40.47343735166941, 'longitude': -3.7241915440169024},\n",
       " 56: {'latitude': 40.41214880704316, 'longitude': -3.7356620312409365},\n",
       " 57: {'latitude': 40.39144717132174, 'longitude': -3.6545377410677498},\n",
       " 58: {'latitude': 40.43173953068984, 'longitude': -3.607628369908832},\n",
       " 59: {'latitude': 40.48390626699566, 'longitude': -3.687220746230517},\n",
       " 60: {'latitude': 40.452057731817305, 'longitude': -3.6036483614197765},\n",
       " 61: {'latitude': 40.38339946706653, 'longitude': -3.643762543356842},\n",
       " 62: {'latitude': 40.4081704733386, 'longitude': -3.729395994595502},\n",
       " 63: {'latitude': 40.393928614376, 'longitude': -3.744713323980896},\n",
       " 64: {'latitude': 40.47406043289477, 'longitude': -3.718181785566969},\n",
       " 65: {'latitude': 40.39701982315709, 'longitude': -3.655239797848888},\n",
       " 66: {'latitude': 40.45190771190827, 'longitude': -3.761757187185669},\n",
       " 67: {'latitude': 40.352850949880235, 'longitude': -3.6963807727286353},\n",
       " 68: {'latitude': 40.45019927443574, 'longitude': -3.768070614824996},\n",
       " 69: {'latitude': 40.40969329689759, 'longitude': -3.618025439807104},\n",
       " 70: {'latitude': 40.40930295868704, 'longitude': -3.616890442862423},\n",
       " 71: {'latitude': 40.41672706688541, 'longitude': -3.610853061814312},\n",
       " 72: {'latitude': 40.45817981904011, 'longitude': -3.7207253118064827},\n",
       " 73: {'latitude': 40.4048457851104, 'longitude': -3.6062315414157613},\n",
       " 74: {'latitude': 40.43555222953495, 'longitude': -3.6519351470803567},\n",
       " 75: {'latitude': 40.462882951414265, 'longitude': -3.6650441004626564},\n",
       " 76: {'latitude': 40.350970403692386, 'longitude': -3.6944891243298597},\n",
       " 77: {'latitude': 40.41438785232736, 'longitude': -3.7147888896558188},\n",
       " 78: {'latitude': 40.382311100280766, 'longitude': -3.7227552919050586},\n",
       " 79: {'latitude': 40.39210151448589, 'longitude': -3.681620654746187},\n",
       " 80: {'latitude': 40.36782603611024, 'longitude': -3.6670181171393064},\n",
       " 81: {'latitude': 40.37253969509114, 'longitude': -3.6698091602059613},\n",
       " 82: {'latitude': 40.393429973468265, 'longitude': -3.6183833916362733},\n",
       " 83: {'latitude': 40.37942623334737, 'longitude': -3.7527174453988774},\n",
       " 84: {'latitude': 40.42985671996897, 'longitude': -3.668031432543624},\n",
       " 85: {'latitude': 40.410083041012584, 'longitude': -3.6297141827859876},\n",
       " 86: {'latitude': 40.36073540960827, 'longitude': -3.7177186736043275},\n",
       " 87: {'latitude': 40.48494412599755, 'longitude': -3.641451621738692},\n",
       " 88: {'latitude': 40.41022401774968, 'longitude': -3.60626801415248},\n",
       " 89: {'latitude': 40.45205238274073, 'longitude': -3.6653500732558792},\n",
       " 90: {'latitude': 40.38033890061462, 'longitude': -3.7834984766161837},\n",
       " 91: {'latitude': 40.48024318499327, 'longitude': -3.650809942180937},\n",
       " 92: {'latitude': 40.346980092315505, 'longitude': -3.712145719392749},\n",
       " 93: {'latitude': 40.45999848510341, 'longitude': -3.6148888706303586},\n",
       " 94: {'latitude': 40.45544764269407, 'longitude': -3.623539375307719},\n",
       " 95: {'latitude': 40.45424210617104, 'longitude': -3.679171627391412},\n",
       " 96: {'latitude': 40.45750725687833, 'longitude': -3.7664554910416252},\n",
       " 97: {'latitude': 40.38556774381467, 'longitude': -3.67430914572838},\n",
       " 98: nan,\n",
       " 99: {'latitude': 40.38581882868559, 'longitude': -3.6363631773029352},\n",
       " 100: {'latitude': 40.38552570117905, 'longitude': -3.599089744871277},\n",
       " 101: {'latitude': 40.39815439895114, 'longitude': -3.7125359439695975},\n",
       " 102: {'latitude': 40.40882236801765, 'longitude': -3.643898652734279},\n",
       " 103: {'latitude': 40.398195733324194, 'longitude': -3.6701340560704026},\n",
       " 104: {'latitude': 40.3673502443602, 'longitude': -3.7076605178679096},\n",
       " 105: {'latitude': 40.394735491209424, 'longitude': -3.6856299107811368},\n",
       " 106: {'latitude': 40.47917989766592, 'longitude': -3.6330084507532687},\n",
       " 107: {'latitude': 40.48106787416528, 'longitude': -3.6933504628706095},\n",
       " 108: {'latitude': 40.483895554775785, 'longitude': -3.6844715393162772},\n",
       " 109: {'latitude': 40.38439900273861, 'longitude': -3.7129519968429445},\n",
       " 110: {'latitude': 40.455011305200735, 'longitude': -3.6743070613284736},\n",
       " 111: {'latitude': 40.385086008433305, 'longitude': -3.7398326701482016},\n",
       " 112: {'latitude': 40.38901086962944, 'longitude': -3.6599692832803825},\n",
       " 113: {'latitude': 40.39900396358797, 'longitude': -3.703926416750334},\n",
       " 114: {'latitude': 40.418806485625446, 'longitude': -3.6563469592354387},\n",
       " 115: {'latitude': 40.463441129364256, 'longitude': -3.6556488853143465},\n",
       " 116: {'latitude': 40.35277786522202, 'longitude': -3.6905392176697744},\n",
       " 117: {'latitude': 40.35239211569256, 'longitude': -3.691771736219469},\n",
       " 118: {'latitude': 40.42372251184839, 'longitude': -3.7116577340508523},\n",
       " 119: {'latitude': 40.44245748722783, 'longitude': -3.6217095632137375},\n",
       " 120: {'latitude': 40.39932569185547, 'longitude': -3.6894842200951024},\n",
       " 121: {'latitude': 40.41641041087398, 'longitude': -3.662606100328213},\n",
       " 122: {'latitude': 40.439387584092685, 'longitude': -3.6571484128652396},\n",
       " 123: {'latitude': 40.42996840999023, 'longitude': -3.622184001035289},\n",
       " 124: {'latitude': 40.43761436823094, 'longitude': -3.7145867743039878},\n",
       " 125: {'latitude': 40.451304609076615, 'longitude': -3.6558964974118364},\n",
       " 126: {'latitude': 40.42949627920971, 'longitude': -3.6617795915510434},\n",
       " 127: {'latitude': 40.38131130575197, 'longitude': -3.608459149580722},\n",
       " 128: {'latitude': 40.379040097900265, 'longitude': -3.742770522229555},\n",
       " 129: {'latitude': 40.368011394592635, 'longitude': -3.7158770172855813},\n",
       " 130: {'latitude': 40.376563359161366, 'longitude': -3.675043967167776},\n",
       " 131: {'latitude': 40.38289158525453, 'longitude': -3.619641837988416},\n",
       " 132: {'latitude': 40.4027578376722, 'longitude': -3.617738099849234},\n",
       " 133: {'latitude': 40.48922371593969, 'longitude': -3.7237594350747143},\n",
       " 134: {'latitude': 40.37217516332789, 'longitude': -3.6238430832643598},\n",
       " 135: {'latitude': 40.4049148503112, 'longitude': -3.636955454805149},\n",
       " 136: {'latitude': 40.351030215596516, 'longitude': -3.7010015933831006},\n",
       " 137: {'latitude': 40.45990434942118, 'longitude': -3.669142805075655},\n",
       " 138: {'latitude': 40.38903628994235, 'longitude': -3.6665321826830297},\n",
       " 139: {'latitude': 40.48559668319756, 'longitude': -3.7174080145343464},\n",
       " 140: {'latitude': 40.425090271008656, 'longitude': -3.6427216652412877},\n",
       " 141: {'latitude': 40.413971277014085, 'longitude': -3.715138075489171},\n",
       " 142: {'latitude': 40.45150372849227, 'longitude': -3.6760645355093797},\n",
       " 143: {'latitude': 40.437140971249754, 'longitude': -3.6608995093418306},\n",
       " 144: {'latitude': 40.44191186628217, 'longitude': -3.610832880429799},\n",
       " 145: {'latitude': 40.39191419121823, 'longitude': -3.7141505979369023},\n",
       " 146: {'latitude': 40.40687979108534, 'longitude': -3.660862691056585},\n",
       " 147: {'latitude': 40.43934359051524, 'longitude': -3.7043941647283263},\n",
       " 148: {'latitude': 40.45374298443811, 'longitude': -3.714179732136829},\n",
       " 149: {'latitude': 40.50021894773631, 'longitude': -3.6861244200250765},\n",
       " 150: {'latitude': 40.49571829898632, 'longitude': -3.6915305267345935},\n",
       " 151: {'latitude': 40.48346692636297, 'longitude': -3.7337736098964642},\n",
       " 152: {'latitude': 40.484467522541834, 'longitude': -3.7336783173806616},\n",
       " 153: {'latitude': 40.473611797871555, 'longitude': -3.646133317289789},\n",
       " 154: {'latitude': 40.450619984285915, 'longitude': -3.7136749543495617},\n",
       " 155: {'latitude': 40.37746689917427, 'longitude': -3.7547689345277977},\n",
       " 156: {'latitude': 40.41540866888321, 'longitude': -3.625727333816089},\n",
       " 157: {'latitude': 40.476654320025524, 'longitude': -3.662490150184719},\n",
       " 158: {'latitude': 40.38951896001857, 'longitude': -3.76740436374511},\n",
       " 159: {'latitude': 40.48185149371301, 'longitude': -3.732800354586844},\n",
       " 160: {'latitude': 40.44943999585466, 'longitude': -3.6315854281089894},\n",
       " 161: {'latitude': 40.348762550258805, 'longitude': -3.715284870727623},\n",
       " 162: {'latitude': 40.37557617692429, 'longitude': -3.711963730232908},\n",
       " 163: {'latitude': 40.383406554321375, 'longitude': -3.7639655933540093},\n",
       " 164: {'latitude': 40.364341448699825, 'longitude': -3.757402071835875},\n",
       " 165: {'latitude': 40.39924815906885, 'longitude': -3.7284983869120603},\n",
       " 166: {'latitude': 40.49738155071247, 'longitude': -3.6936009892949127},\n",
       " 167: {'latitude': 40.468674190501815, 'longitude': -3.631588640594873},\n",
       " 168: {'latitude': 40.47266915640937, 'longitude': -3.707125226601671},\n",
       " 169: {'latitude': 40.42060649869604, 'longitude': -3.6324237307227616},\n",
       " 170: {'latitude': 40.348326631620154, 'longitude': -3.6921658727994773},\n",
       " 171: {'latitude': 40.42834456035844, 'longitude': -3.728941931668392},\n",
       " 172: {'latitude': 40.41472407139105, 'longitude': -3.7301857404819767},\n",
       " 173: {'latitude': 40.39998426244181, 'longitude': -3.7486569900905633},\n",
       " 174: {'latitude': 40.41220177650095, 'longitude': -3.628985975935673},\n",
       " 175: {'latitude': 40.34452019989438, 'longitude': -3.686887364713823},\n",
       " 176: {'latitude': 40.36791659504536, 'longitude': -3.6283267501780205},\n",
       " 177: {'latitude': 40.40838172678723, 'longitude': -3.6156327652234856},\n",
       " 178: {'latitude': 40.48531189120052, 'longitude': -3.7006858825216624},\n",
       " 179: {'latitude': 40.47342193811745, 'longitude': -3.6929061067371793},\n",
       " 180: {'latitude': 40.40930182229157, 'longitude': -3.608605091516184},\n",
       " 181: {'latitude': 40.37342722778796, 'longitude': -3.732581210214349},\n",
       " 182: {'latitude': 40.44185168357492, 'longitude': -3.6610753472863737},\n",
       " 183: {'latitude': 40.396280768551875, 'longitude': -3.6893809207693966},\n",
       " 184: {'latitude': 40.461621132349094, 'longitude': -3.6281020785174873},\n",
       " 185: {'latitude': 40.422169759145554, 'longitude': -3.6348548961758254},\n",
       " 186: {'latitude': 40.390471636161195, 'longitude': -3.6875778883164587},\n",
       " 187: {'latitude': 40.361196526923834, 'longitude': -3.6853017812008},\n",
       " 188: {'latitude': 40.41374876020892, 'longitude': -3.6924939830736947},\n",
       " 189: {'latitude': 40.434346372132815, 'longitude': -3.7214729198433942},\n",
       " 190: {'latitude': 40.5186002228516, 'longitude': -3.7753787533567573},\n",
       " 191: nan,\n",
       " 192: {'latitude': 40.4735113714068, 'longitude': -3.57805132010274},\n",
       " 193: {'latitude': 40.41290521872114, 'longitude': -3.692004931820884},\n",
       " 194: {'latitude': 40.41687551533723, 'longitude': -3.6934169057776667},\n",
       " 195: {'latitude': 40.443385945708435, 'longitude': -3.6182513751654133},\n",
       " 196: {'latitude': 40.42299730556785, 'longitude': -3.6625213630031794},\n",
       " 197: {'latitude': 40.42633204176242, 'longitude': -3.722298777408928},\n",
       " 198: {'latitude': 40.409899256936335, 'longitude': -3.6823305487957123},\n",
       " 199: {'latitude': 40.41984158690351, 'longitude': -3.7286969080235455},\n",
       " 200: {'latitude': 40.445355536117184, 'longitude': -3.7399742609916697},\n",
       " 201: {'latitude': 40.477263871475174, 'longitude': -3.7430025162285188},\n",
       " 202: {'latitude': 40.582362517713584, 'longitude': -3.7054314643264945}}"
      ]
     },
     "execution_count": 72,
     "metadata": {},
     "output_type": "execute_result"
    }
   ],
   "source": [
    "loc_dict = dict(df_location)\n",
    "loc_dict"
   ]
  },
  {
   "cell_type": "code",
   "execution_count": 75,
   "id": "ee0d6c52",
   "metadata": {},
   "outputs": [
    {
     "ename": "TypeError",
     "evalue": "'int' object is not iterable",
     "output_type": "error",
     "traceback": [
      "\u001b[1;31m---------------------------------------------------------------------------\u001b[0m",
      "\u001b[1;31mTypeError\u001b[0m                                 Traceback (most recent call last)",
      "Cell \u001b[1;32mIn[75], line 1\u001b[0m\n\u001b[1;32m----> 1\u001b[0m list_loc \u001b[38;5;241m=\u001b[39m [j \u001b[38;5;28;01mfor\u001b[39;00m i \u001b[38;5;129;01min\u001b[39;00m loc_dict \u001b[38;5;28;01mfor\u001b[39;00m j \u001b[38;5;129;01min\u001b[39;00m i]\n\u001b[0;32m      2\u001b[0m list_loc\n",
      "Cell \u001b[1;32mIn[75], line 1\u001b[0m, in \u001b[0;36m<listcomp>\u001b[1;34m(.0)\u001b[0m\n\u001b[1;32m----> 1\u001b[0m list_loc \u001b[38;5;241m=\u001b[39m [j \u001b[38;5;28;01mfor\u001b[39;00m i \u001b[38;5;129;01min\u001b[39;00m loc_dict \u001b[38;5;28;01mfor\u001b[39;00m j \u001b[38;5;129;01min\u001b[39;00m i]\n\u001b[0;32m      2\u001b[0m list_loc\n",
      "\u001b[1;31mTypeError\u001b[0m: 'int' object is not iterable"
     ]
    }
   ],
   "source": [
    "list_loc = [j for i in loc_dict for j in i]\n",
    "list_loc"
   ]
  },
  {
   "cell_type": "code",
   "execution_count": 68,
   "id": "f735c11b",
   "metadata": {},
   "outputs": [
    {
     "ename": "AttributeError",
     "evalue": "'list' object has no attribute 'values'",
     "output_type": "error",
     "traceback": [
      "\u001b[1;31m---------------------------------------------------------------------------\u001b[0m",
      "\u001b[1;31mAttributeError\u001b[0m                            Traceback (most recent call last)",
      "Cell \u001b[1;32mIn[68], line 1\u001b[0m\n\u001b[1;32m----> 1\u001b[0m my_list \u001b[38;5;241m=\u001b[39m [i \u001b[38;5;28;01mfor\u001b[39;00m i \u001b[38;5;129;01min\u001b[39;00m \u001b[43mlist_loc\u001b[49m\u001b[38;5;241;43m.\u001b[39;49m\u001b[43mvalues\u001b[49m()]\n",
      "\u001b[1;31mAttributeError\u001b[0m: 'list' object has no attribute 'values'"
     ]
    }
   ],
   "source": [
    "my_list = [i for i in list_loc.values(0)]"
   ]
  },
  {
   "cell_type": "code",
   "execution_count": 99,
   "id": "31e08534",
   "metadata": {},
   "outputs": [
    {
     "data": {
      "text/plain": [
       "{0: {'latitude': 40.43346186779773, 'longitude': -3.6785954778654113},\n",
       " 1: {'latitude': 40.40714274084601, 'longitude': -3.7121666160537057},\n",
       " 2: {'latitude': 40.44613326792272, 'longitude': -3.6989699295578347},\n",
       " 3: {'latitude': 40.41964087412762, 'longitude': -3.68793370943788},\n",
       " 4: {'latitude': 40.461517637696026, 'longitude': -3.6751179007317614},\n",
       " 5: {'latitude': 40.410944943237865, 'longitude': -3.660501733743551},\n",
       " 6: {'latitude': 40.45257591499544, 'longitude': -3.6957817548357257},\n",
       " 7: {'latitude': 40.419911287101144, 'longitude': -3.713185308888602},\n",
       " 8: {'latitude': 40.45978849094378, 'longitude': -3.687352342212426},\n",
       " 9: {'latitude': 40.458706953002235, 'longitude': -3.6934625569379387},\n",
       " 10: {'latitude': 40.44903638127448, 'longitude': -3.695615530710886},\n",
       " 11: {'latitude': 40.43137597367309, 'longitude': -3.7064685006782208},\n",
       " 12: {'latitude': 40.43285328749453, 'longitude': -3.697594475998512},\n",
       " 13: {'latitude': 40.43247362678542, 'longitude': -3.7007855621824293},\n",
       " 14: {'latitude': 40.41835486065351, 'longitude': -3.712838830603048},\n",
       " 15: {'latitude': 40.42620255233654, 'longitude': -3.6934468983675846},\n",
       " 16: {'latitude': 40.41476219795408, 'longitude': -3.7154411142835397},\n",
       " 17: {'latitude': 40.45558642017734, 'longitude': -3.6970275649098454},\n",
       " 18: {'latitude': 40.41281392212301, 'longitude': -3.7143597156687056},\n",
       " 19: {'latitude': 40.42640449792336, 'longitude': -3.7002981748621955},\n",
       " 20: {'latitude': 40.42518540300912, 'longitude': -3.6887800207651495},\n",
       " 21: {'latitude': 40.45454215758879, 'longitude': -3.6893863385035783},\n",
       " 22: {'latitude': 40.4530917282714, 'longitude': -3.6893833082867062},\n",
       " 23: {'latitude': 40.413417349090764, 'longitude': -3.711466649831885},\n",
       " 24: {'latitude': 40.373745996607155, 'longitude': -3.712180056298639},\n",
       " 25: {'latitude': 40.43304334055123, 'longitude': -3.712227582685096},\n",
       " 26: {'latitude': 40.402080397498985, 'longitude': -3.714965086287463},\n",
       " 27: {'latitude': 40.40148810908036, 'longitude': -3.713132255123738},\n",
       " 28: {'latitude': 40.414757673901924, 'longitude': -3.7161718357850444},\n",
       " 29: {'latitude': 40.481785094079584, 'longitude': -3.660098332215654},\n",
       " 30: {'latitude': 40.41418990040181, 'longitude': -3.7118283820550775},\n",
       " 31: {'latitude': 40.38418473435094, 'longitude': -3.685817452497564},\n",
       " 32: {'latitude': 40.41631909566782, 'longitude': -3.712793771176405},\n",
       " 33: {'latitude': 40.37089825532696, 'longitude': -3.618365854832584},\n",
       " 34: {'latitude': 40.4390037057741, 'longitude': -3.6905481652485355},\n",
       " 35: {'latitude': 40.3957812018463, 'longitude': -3.6670346724676173},\n",
       " 36: {'latitude': 40.404491323444994, 'longitude': -3.7213308239798675},\n",
       " 37: {'latitude': 40.42425096551599, 'longitude': -3.716531855540272},\n",
       " 38: {'latitude': 40.37740868500615, 'longitude': -3.6206400361863036},\n",
       " 39: {'latitude': 40.39218269145896, 'longitude': -3.7056345651289417},\n",
       " 40: {'latitude': 40.45446361509569, 'longitude': -3.6000964360303476},\n",
       " 41: {'latitude': 40.3933877847248, 'longitude': -3.698565632659468},\n",
       " 42: {'latitude': 40.47022952429582, 'longitude': -3.7038792453996385},\n",
       " 43: {'latitude': 40.40418961057298, 'longitude': -3.622901144863193},\n",
       " 44: {'latitude': 40.47098300036034, 'longitude': -3.6393251567222045},\n",
       " 45: {'latitude': 40.449252672650985, 'longitude': -3.7133420888843105},\n",
       " 46: {'latitude': 40.394320359418835, 'longitude': -3.7592814565910553},\n",
       " 47: {'latitude': 40.38543450752234, 'longitude': -3.765190215590101},\n",
       " 48: {'latitude': 40.36716919688689, 'longitude': -3.7136655626692887},\n",
       " 49: {'latitude': 40.428652595625735, 'longitude': -3.659649292346212},\n",
       " 50: {'latitude': 40.41192841997151, 'longitude': -3.67583331713166},\n",
       " 51: {'latitude': 40.43847239256322, 'longitude': -3.6087501533089923},\n",
       " 52: {'latitude': 40.39476596114844, 'longitude': -3.6361646051817518},\n",
       " 53: {'latitude': 40.49284296962057, 'longitude': -3.7169069720385446},\n",
       " 54: {'latitude': 40.45451429342977, 'longitude': -3.7856220495572703},\n",
       " 55: {'latitude': 40.47343735166941, 'longitude': -3.7241915440169024},\n",
       " 56: {'latitude': 40.41214880704316, 'longitude': -3.7356620312409365},\n",
       " 57: {'latitude': 40.39144717132174, 'longitude': -3.6545377410677498},\n",
       " 58: {'latitude': 40.43173953068984, 'longitude': -3.607628369908832},\n",
       " 59: {'latitude': 40.48390626699566, 'longitude': -3.687220746230517},\n",
       " 60: {'latitude': 40.452057731817305, 'longitude': -3.6036483614197765},\n",
       " 61: {'latitude': 40.38339946706653, 'longitude': -3.643762543356842},\n",
       " 62: {'latitude': 40.4081704733386, 'longitude': -3.729395994595502},\n",
       " 63: {'latitude': 40.393928614376, 'longitude': -3.744713323980896},\n",
       " 64: {'latitude': 40.47406043289477, 'longitude': -3.718181785566969},\n",
       " 65: {'latitude': 40.39701982315709, 'longitude': -3.655239797848888},\n",
       " 66: {'latitude': 40.45190771190827, 'longitude': -3.761757187185669},\n",
       " 67: {'latitude': 40.352850949880235, 'longitude': -3.6963807727286353},\n",
       " 68: {'latitude': 40.45019927443574, 'longitude': -3.768070614824996},\n",
       " 69: {'latitude': 40.40969329689759, 'longitude': -3.618025439807104},\n",
       " 70: {'latitude': 40.40930295868704, 'longitude': -3.616890442862423},\n",
       " 71: {'latitude': 40.41672706688541, 'longitude': -3.610853061814312},\n",
       " 72: {'latitude': 40.45817981904011, 'longitude': -3.7207253118064827},\n",
       " 73: {'latitude': 40.4048457851104, 'longitude': -3.6062315414157613},\n",
       " 74: {'latitude': 40.43555222953495, 'longitude': -3.6519351470803567},\n",
       " 75: {'latitude': 40.462882951414265, 'longitude': -3.6650441004626564},\n",
       " 76: {'latitude': 40.350970403692386, 'longitude': -3.6944891243298597},\n",
       " 77: {'latitude': 40.41438785232736, 'longitude': -3.7147888896558188},\n",
       " 78: {'latitude': 40.382311100280766, 'longitude': -3.7227552919050586},\n",
       " 79: {'latitude': 40.39210151448589, 'longitude': -3.681620654746187},\n",
       " 80: {'latitude': 40.36782603611024, 'longitude': -3.6670181171393064},\n",
       " 81: {'latitude': 40.37253969509114, 'longitude': -3.6698091602059613},\n",
       " 82: {'latitude': 40.393429973468265, 'longitude': -3.6183833916362733},\n",
       " 83: {'latitude': 40.37942623334737, 'longitude': -3.7527174453988774},\n",
       " 84: {'latitude': 40.42985671996897, 'longitude': -3.668031432543624},\n",
       " 85: {'latitude': 40.410083041012584, 'longitude': -3.6297141827859876},\n",
       " 86: {'latitude': 40.36073540960827, 'longitude': -3.7177186736043275},\n",
       " 87: {'latitude': 40.48494412599755, 'longitude': -3.641451621738692},\n",
       " 88: {'latitude': 40.41022401774968, 'longitude': -3.60626801415248},\n",
       " 89: {'latitude': 40.45205238274073, 'longitude': -3.6653500732558792},\n",
       " 90: {'latitude': 40.38033890061462, 'longitude': -3.7834984766161837},\n",
       " 91: {'latitude': 40.48024318499327, 'longitude': -3.650809942180937},\n",
       " 92: {'latitude': 40.346980092315505, 'longitude': -3.712145719392749},\n",
       " 93: {'latitude': 40.45999848510341, 'longitude': -3.6148888706303586},\n",
       " 94: {'latitude': 40.45544764269407, 'longitude': -3.623539375307719},\n",
       " 95: {'latitude': 40.45424210617104, 'longitude': -3.679171627391412},\n",
       " 96: {'latitude': 40.45750725687833, 'longitude': -3.7664554910416252},\n",
       " 97: {'latitude': 40.38556774381467, 'longitude': -3.67430914572838},\n",
       " 98: nan,\n",
       " 99: {'latitude': 40.38581882868559, 'longitude': -3.6363631773029352},\n",
       " 100: {'latitude': 40.38552570117905, 'longitude': -3.599089744871277},\n",
       " 101: {'latitude': 40.39815439895114, 'longitude': -3.7125359439695975},\n",
       " 102: {'latitude': 40.40882236801765, 'longitude': -3.643898652734279},\n",
       " 103: {'latitude': 40.398195733324194, 'longitude': -3.6701340560704026},\n",
       " 104: {'latitude': 40.3673502443602, 'longitude': -3.7076605178679096},\n",
       " 105: {'latitude': 40.394735491209424, 'longitude': -3.6856299107811368},\n",
       " 106: {'latitude': 40.47917989766592, 'longitude': -3.6330084507532687},\n",
       " 107: {'latitude': 40.48106787416528, 'longitude': -3.6933504628706095},\n",
       " 108: {'latitude': 40.483895554775785, 'longitude': -3.6844715393162772},\n",
       " 109: {'latitude': 40.38439900273861, 'longitude': -3.7129519968429445},\n",
       " 110: {'latitude': 40.455011305200735, 'longitude': -3.6743070613284736},\n",
       " 111: {'latitude': 40.385086008433305, 'longitude': -3.7398326701482016},\n",
       " 112: {'latitude': 40.38901086962944, 'longitude': -3.6599692832803825},\n",
       " 113: {'latitude': 40.39900396358797, 'longitude': -3.703926416750334},\n",
       " 114: {'latitude': 40.418806485625446, 'longitude': -3.6563469592354387},\n",
       " 115: {'latitude': 40.463441129364256, 'longitude': -3.6556488853143465},\n",
       " 116: {'latitude': 40.35277786522202, 'longitude': -3.6905392176697744},\n",
       " 117: {'latitude': 40.35239211569256, 'longitude': -3.691771736219469},\n",
       " 118: {'latitude': 40.42372251184839, 'longitude': -3.7116577340508523},\n",
       " 119: {'latitude': 40.44245748722783, 'longitude': -3.6217095632137375},\n",
       " 120: {'latitude': 40.39932569185547, 'longitude': -3.6894842200951024},\n",
       " 121: {'latitude': 40.41641041087398, 'longitude': -3.662606100328213},\n",
       " 122: {'latitude': 40.439387584092685, 'longitude': -3.6571484128652396},\n",
       " 123: {'latitude': 40.42996840999023, 'longitude': -3.622184001035289},\n",
       " 124: {'latitude': 40.43761436823094, 'longitude': -3.7145867743039878},\n",
       " 125: {'latitude': 40.451304609076615, 'longitude': -3.6558964974118364},\n",
       " 126: {'latitude': 40.42949627920971, 'longitude': -3.6617795915510434},\n",
       " 127: {'latitude': 40.38131130575197, 'longitude': -3.608459149580722},\n",
       " 128: {'latitude': 40.379040097900265, 'longitude': -3.742770522229555},\n",
       " 129: {'latitude': 40.368011394592635, 'longitude': -3.7158770172855813},\n",
       " 130: {'latitude': 40.376563359161366, 'longitude': -3.675043967167776},\n",
       " 131: {'latitude': 40.38289158525453, 'longitude': -3.619641837988416},\n",
       " 132: {'latitude': 40.4027578376722, 'longitude': -3.617738099849234},\n",
       " 133: {'latitude': 40.48922371593969, 'longitude': -3.7237594350747143},\n",
       " 134: {'latitude': 40.37217516332789, 'longitude': -3.6238430832643598},\n",
       " 135: {'latitude': 40.4049148503112, 'longitude': -3.636955454805149},\n",
       " 136: {'latitude': 40.351030215596516, 'longitude': -3.7010015933831006},\n",
       " 137: {'latitude': 40.45990434942118, 'longitude': -3.669142805075655},\n",
       " 138: {'latitude': 40.38903628994235, 'longitude': -3.6665321826830297},\n",
       " 139: {'latitude': 40.48559668319756, 'longitude': -3.7174080145343464},\n",
       " 140: {'latitude': 40.425090271008656, 'longitude': -3.6427216652412877},\n",
       " 141: {'latitude': 40.413971277014085, 'longitude': -3.715138075489171},\n",
       " 142: {'latitude': 40.45150372849227, 'longitude': -3.6760645355093797},\n",
       " 143: {'latitude': 40.437140971249754, 'longitude': -3.6608995093418306},\n",
       " 144: {'latitude': 40.44191186628217, 'longitude': -3.610832880429799},\n",
       " 145: {'latitude': 40.39191419121823, 'longitude': -3.7141505979369023},\n",
       " 146: {'latitude': 40.40687979108534, 'longitude': -3.660862691056585},\n",
       " 147: {'latitude': 40.43934359051524, 'longitude': -3.7043941647283263},\n",
       " 148: {'latitude': 40.45374298443811, 'longitude': -3.714179732136829},\n",
       " 149: {'latitude': 40.50021894773631, 'longitude': -3.6861244200250765},\n",
       " 150: {'latitude': 40.49571829898632, 'longitude': -3.6915305267345935},\n",
       " 151: {'latitude': 40.48346692636297, 'longitude': -3.7337736098964642},\n",
       " 152: {'latitude': 40.484467522541834, 'longitude': -3.7336783173806616},\n",
       " 153: {'latitude': 40.473611797871555, 'longitude': -3.646133317289789},\n",
       " 154: {'latitude': 40.450619984285915, 'longitude': -3.7136749543495617},\n",
       " 155: {'latitude': 40.37746689917427, 'longitude': -3.7547689345277977},\n",
       " 156: {'latitude': 40.41540866888321, 'longitude': -3.625727333816089},\n",
       " 157: {'latitude': 40.476654320025524, 'longitude': -3.662490150184719},\n",
       " 158: {'latitude': 40.38951896001857, 'longitude': -3.76740436374511},\n",
       " 159: {'latitude': 40.48185149371301, 'longitude': -3.732800354586844},\n",
       " 160: {'latitude': 40.44943999585466, 'longitude': -3.6315854281089894},\n",
       " 161: {'latitude': 40.348762550258805, 'longitude': -3.715284870727623},\n",
       " 162: {'latitude': 40.37557617692429, 'longitude': -3.711963730232908},\n",
       " 163: {'latitude': 40.383406554321375, 'longitude': -3.7639655933540093},\n",
       " 164: {'latitude': 40.364341448699825, 'longitude': -3.757402071835875},\n",
       " 165: {'latitude': 40.39924815906885, 'longitude': -3.7284983869120603},\n",
       " 166: {'latitude': 40.49738155071247, 'longitude': -3.6936009892949127},\n",
       " 167: {'latitude': 40.468674190501815, 'longitude': -3.631588640594873},\n",
       " 168: {'latitude': 40.47266915640937, 'longitude': -3.707125226601671},\n",
       " 169: {'latitude': 40.42060649869604, 'longitude': -3.6324237307227616},\n",
       " 170: {'latitude': 40.348326631620154, 'longitude': -3.6921658727994773},\n",
       " 171: {'latitude': 40.42834456035844, 'longitude': -3.728941931668392},\n",
       " 172: {'latitude': 40.41472407139105, 'longitude': -3.7301857404819767},\n",
       " 173: {'latitude': 40.39998426244181, 'longitude': -3.7486569900905633},\n",
       " 174: {'latitude': 40.41220177650095, 'longitude': -3.628985975935673},\n",
       " 175: {'latitude': 40.34452019989438, 'longitude': -3.686887364713823},\n",
       " 176: {'latitude': 40.36791659504536, 'longitude': -3.6283267501780205},\n",
       " 177: {'latitude': 40.40838172678723, 'longitude': -3.6156327652234856},\n",
       " 178: {'latitude': 40.48531189120052, 'longitude': -3.7006858825216624},\n",
       " 179: {'latitude': 40.47342193811745, 'longitude': -3.6929061067371793},\n",
       " 180: {'latitude': 40.40930182229157, 'longitude': -3.608605091516184},\n",
       " 181: {'latitude': 40.37342722778796, 'longitude': -3.732581210214349},\n",
       " 182: {'latitude': 40.44185168357492, 'longitude': -3.6610753472863737},\n",
       " 183: {'latitude': 40.396280768551875, 'longitude': -3.6893809207693966},\n",
       " 184: {'latitude': 40.461621132349094, 'longitude': -3.6281020785174873},\n",
       " 185: {'latitude': 40.422169759145554, 'longitude': -3.6348548961758254},\n",
       " 186: {'latitude': 40.390471636161195, 'longitude': -3.6875778883164587},\n",
       " 187: {'latitude': 40.361196526923834, 'longitude': -3.6853017812008},\n",
       " 188: {'latitude': 40.41374876020892, 'longitude': -3.6924939830736947},\n",
       " 189: {'latitude': 40.434346372132815, 'longitude': -3.7214729198433942},\n",
       " 190: {'latitude': 40.5186002228516, 'longitude': -3.7753787533567573},\n",
       " 191: nan,\n",
       " 192: {'latitude': 40.4735113714068, 'longitude': -3.57805132010274},\n",
       " 193: {'latitude': 40.41290521872114, 'longitude': -3.692004931820884},\n",
       " 194: {'latitude': 40.41687551533723, 'longitude': -3.6934169057776667},\n",
       " 195: {'latitude': 40.443385945708435, 'longitude': -3.6182513751654133},\n",
       " 196: {'latitude': 40.42299730556785, 'longitude': -3.6625213630031794},\n",
       " 197: {'latitude': 40.42633204176242, 'longitude': -3.722298777408928},\n",
       " 198: {'latitude': 40.409899256936335, 'longitude': -3.6823305487957123},\n",
       " 199: {'latitude': 40.41984158690351, 'longitude': -3.7286969080235455},\n",
       " 200: {'latitude': 40.445355536117184, 'longitude': -3.7399742609916697},\n",
       " 201: {'latitude': 40.477263871475174, 'longitude': -3.7430025162285188},\n",
       " 202: {'latitude': 40.582362517713584, 'longitude': -3.7054314643264945}}"
      ]
     },
     "execution_count": 99,
     "metadata": {},
     "output_type": "execute_result"
    }
   ],
   "source": [
    "df_location['latitude'] = [i for i in df_location]\n",
    "dict(df['latitude'])"
   ]
  },
  {
   "cell_type": "code",
   "execution_count": 81,
   "id": "144f05f8",
   "metadata": {},
   "outputs": [
    {
     "data": {
      "text/plain": [
       "dict_values([40.43346186779773, -3.6785954778654113])"
      ]
     },
     "execution_count": 81,
     "metadata": {},
     "output_type": "execute_result"
    }
   ],
   "source": [
    "df_location[0].values()"
   ]
  },
  {
   "cell_type": "code",
   "execution_count": 78,
   "id": "6b2d6305",
   "metadata": {},
   "outputs": [
    {
     "ename": "NameError",
     "evalue": "name 'dict_values' is not defined",
     "output_type": "error",
     "traceback": [
      "\u001b[1;31m---------------------------------------------------------------------------\u001b[0m",
      "\u001b[1;31mNameError\u001b[0m                                 Traceback (most recent call last)",
      "Cell \u001b[1;32mIn[78], line 1\u001b[0m\n\u001b[1;32m----> 1\u001b[0m \u001b[43mdict_values\u001b[49m()\n",
      "\u001b[1;31mNameError\u001b[0m: name 'dict_values' is not defined"
     ]
    }
   ],
   "source": [
    "dict_values()"
   ]
  },
  {
   "cell_type": "code",
   "execution_count": null,
   "id": "f278a705",
   "metadata": {},
   "outputs": [],
   "source": []
  }
 ],
 "metadata": {
  "kernelspec": {
   "display_name": "Python [conda env:pro_m1]",
   "language": "python",
   "name": "conda-env-pro_m1-py"
  },
  "language_info": {
   "codemirror_mode": {
    "name": "ipython",
    "version": 3
   },
   "file_extension": ".py",
   "mimetype": "text/x-python",
   "name": "python",
   "nbconvert_exporter": "python",
   "pygments_lexer": "ipython3",
   "version": "3.9.16"
  }
 },
 "nbformat": 4,
 "nbformat_minor": 5
}
