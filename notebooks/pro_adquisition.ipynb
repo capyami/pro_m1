{
 "cells": [
  {
   "cell_type": "markdown",
   "id": "ac4c3287",
   "metadata": {},
   "source": [
    "Gardens"
   ]
  },
  {
   "cell_type": "code",
   "execution_count": null,
   "id": "53845f0c",
   "metadata": {},
   "outputs": [],
   "source": [
    "api = 'https://datos.madrid.es/egob/catalogo/200761-0-parques-jardines.json'"
   ]
  },
  {
   "cell_type": "code",
   "execution_count": null,
   "id": "e0d3c8e7",
   "metadata": {},
   "outputs": [],
   "source": [
    "def adquisition_gardens(api):\n",
    "    response = requests.get(api)\n",
    "    results_api = response.json()\n",
    "    return results_api"
   ]
  },
  {
   "cell_type": "markdown",
   "id": "c6a8767d",
   "metadata": {},
   "source": [
    "---"
   ]
  },
  {
   "cell_type": "markdown",
   "id": "3450f3bd",
   "metadata": {},
   "source": [
    "Bicimad"
   ]
  },
  {
   "cell_type": "code",
   "execution_count": null,
   "id": "25a2f668",
   "metadata": {},
   "outputs": [],
   "source": [
    "datab = 'bicimad1.db'"
   ]
  },
  {
   "cell_type": "code",
   "execution_count": null,
   "id": "4eba5e74",
   "metadata": {},
   "outputs": [],
   "source": [
    "def adquisition_db_bicimad(data_base):\n",
    "    db_bicimad = duckdb.connect('datab')\n",
    "    df_bicimad = db_bicimad.sql('select * from bicimad_stations').df()\n",
    "    return df_bicimad"
   ]
  }
 ],
 "metadata": {
  "kernelspec": {
   "display_name": "Python [conda env:pro_m1]",
   "language": "python",
   "name": "conda-env-pro_m1-py"
  },
  "language_info": {
   "codemirror_mode": {
    "name": "ipython",
    "version": 3
   },
   "file_extension": ".py",
   "mimetype": "text/x-python",
   "name": "python",
   "nbconvert_exporter": "python",
   "pygments_lexer": "ipython3",
   "version": "3.9.16"
  }
 },
 "nbformat": 4,
 "nbformat_minor": 5
}
