{
 "cells": [
  {
   "cell_type": "code",
   "execution_count": null,
   "id": "4b6b05c9",
   "metadata": {},
   "outputs": [],
   "source": [
    "%%time\n",
    "def calculate_distances(df_place, df_station)\n",
    "    distance_of_alls = []\n",
    "    for index, row in df_place.iterrows():\n",
    "        distance_one_station = []\n",
    "        distance_of_alls.append(distance_one_station)\n",
    "        for index, j in df_station.iterrows():\n",
    "            distance_one_station.append(distance_meters(float(row['latitude']), float(row['longitude']), float(j['latitude']), float(j['longitude'])))\n",
    "    df_coordinates = pd.DataFrame(distance_of_alls)\n",
    "    return df_coordinates"
   ]
  },
  {
   "cell_type": "code",
   "execution_count": null,
   "id": "52df9b7b",
   "metadata": {},
   "outputs": [],
   "source": [
    "%%time\n",
    "def remove_non_numeric(s):\n",
    "    return re.sub('[^0-9\\.]+', '', s)"
   ]
  },
  {
   "cell_type": "code",
   "execution_count": null,
   "id": "42873089",
   "metadata": {},
   "outputs": [],
   "source": [
    "# Aquí me equivoqué, tenía  que haber puesto print para ver dónde estaba el fallo\n",
    "# Era el implace = True de:\n",
    "# coor = coor.rename(columns={1: \"index_garden\"}, inplace=True)     \n",
    "\n",
    "\n",
    "def wrangcoor(coor):\n",
    "    coor = coor.astype(str)\n",
    "    coor = coor.applymap(lambda x: remove_non_numeric(x))\n",
    "    coor = coor.astype(float)\n",
    "    coorm = coor.min(axis=1)\n",
    "    coorm = coorm.to_dict()\n",
    "    coor = coor.to_dict()\n",
    "    dict_ms = {}\n",
    "    for keys1, values1 in coor.items():\n",
    "        for key_a, value_a in values1.items():\n",
    "            for key_min, value_min in coorm.items():\n",
    "                if value_a == value_min:\n",
    "                    dict_ms[key_min] = (value_min, keys1)\n",
    "    coor = dict(sorted(dict_ms.items()))        \n",
    "    coor = pd.DataFrame.from_dict(coor, orient='index')        \n",
    "    coor = coor.rename(columns={1: \"index_station\"})     \n",
    "    return coor"
   ]
  },
  {
   "cell_type": "code",
   "execution_count": null,
   "id": "da691216",
   "metadata": {},
   "outputs": [],
   "source": [
    "def min_stations(coor, df_bicimad):\n",
    "    list_min_station_names = {}\n",
    "    count = 0\n",
    "    for index, row1 in coor.iterrows():\n",
    "        for index, row2 in df_bicimad.iterrows():\n",
    "            if row1['index_station'] == row2['1a']:\n",
    "                list_min_station_names[count]= (row2['name'], row2['address'])\n",
    "                count = count +1\n",
    "    df_min_station_names = pd.DataFrame(list_min_station_names)\n",
    "    df_min_station_names = df_min_station_names.transpose()\n",
    "    df_min_station_names = df_min_station_names.rename(columns={0: \"name1\", 1:'address1'}, inplace=True)\n",
    "    df_min_station_names = df_min_station_names['name1'].apply(lambda x: pd.Series(str(x).split('-')))\n",
    "    df_min_station_names = df_min_station_names1.rename(columns={0: \"numberof\", 1:'name2', 2:'null'}, inplace=True)\n",
    "    return df_min_station_names"
   ]
  },
  {
   "cell_type": "code",
   "execution_count": null,
   "id": "05134938",
   "metadata": {},
   "outputs": [],
   "source": [
    "def join_all(places, stations, distances):\n",
    "    df_final = pd.concat([cleaning_df_garden, df_min_station_names, df_min_station_names], axis=1)\n",
    "    df_final = df_final[['title', '@type', 'street-address', 'name2', 'address1']]\n",
    "    df_final = df_final.rename(columns={'title': 'Place of interest', '@type': 'Type of place', 'street-address': 'Place address', 'name2': 'BiciMAD station', 'address1': 'Station location'})"
   ]
  }
 ],
 "metadata": {
  "kernelspec": {
   "display_name": "Python [conda env:pro_m1]",
   "language": "python",
   "name": "conda-env-pro_m1-py"
  },
  "language_info": {
   "codemirror_mode": {
    "name": "ipython",
    "version": 3
   },
   "file_extension": ".py",
   "mimetype": "text/x-python",
   "name": "python",
   "nbconvert_exporter": "python",
   "pygments_lexer": "ipython3",
   "version": "3.9.16"
  }
 },
 "nbformat": 4,
 "nbformat_minor": 5
}
