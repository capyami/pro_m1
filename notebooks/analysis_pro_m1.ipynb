{
 "cells": [
  {
   "cell_type": "markdown",
   "id": "309a5318",
   "metadata": {},
   "source": [
    "## Analisys data project m1"
   ]
  },
  {
   "cell_type": "code",
   "execution_count": null,
   "id": "20a45054",
   "metadata": {},
   "outputs": [],
   "source": [
    "from shapely.geometry import Point\n",
    "import geopandas as gpd   # conda install -c conda-forge geopandas"
   ]
  },
  {
   "cell_type": "code",
   "execution_count": null,
   "id": "74672381",
   "metadata": {},
   "outputs": [],
   "source": [
    "for i in latitude, longitude\n",
    "#df[['Name', 'Qualification']]"
   ]
  }
 ],
 "metadata": {
  "kernelspec": {
   "display_name": "Python [conda env:pro_m1]",
   "language": "python",
   "name": "conda-env-pro_m1-py"
  },
  "language_info": {
   "codemirror_mode": {
    "name": "ipython",
    "version": 3
   },
   "file_extension": ".py",
   "mimetype": "text/x-python",
   "name": "python",
   "nbconvert_exporter": "python",
   "pygments_lexer": "ipython3",
   "version": "3.9.16"
  }
 },
 "nbformat": 4,
 "nbformat_minor": 5
}
