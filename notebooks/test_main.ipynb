{
 "cells": [
  {
   "cell_type": "markdown",
   "id": "952f7e9c",
   "metadata": {},
   "source": [
    "Example for import modules"
   ]
  },
  {
   "cell_type": "code",
   "execution_count": null,
   "id": "0cfd7b33",
   "metadata": {},
   "outputs": [],
   "source": [
    "import argparse\n",
    "from p_acquisition import m_acquisition as mac\n",
    "from p_wrangling import m_wrangling as mwr\n",
    "from p_analysis import m_analysis as man \n",
    "from p_reporting import m_reporting as mre\n"
   ]
  },
  {
   "cell_type": "markdown",
   "id": "fa086403",
   "metadata": {},
   "source": [
    "---\n",
    "Mine"
   ]
  },
  {
   "cell_type": "code",
   "execution_count": null,
   "id": "722003a0",
   "metadata": {},
   "outputs": [],
   "source": [
    "def argument_parser():\n",
    "    parser = argparse.ArgumentParser(description = 'Place or type of places')\n",
    "    parser.add_argument(\"-o\", \"--one\", help=\"Select a place\", action=\"store_true\")\n",
    "    parser.add_argument(\"-t\", \"--type\", help=\"Select type of place\", action=\"store_true\")\n",
    "    args = parser.parse_args()\n",
    "    return args"
   ]
  },
  {
   "cell_type": "markdown",
   "id": "ec1762c7",
   "metadata": {},
   "source": [
    "Example"
   ]
  },
  {
   "cell_type": "code",
   "execution_count": null,
   "id": "0550d3ef",
   "metadata": {},
   "outputs": [],
   "source": [
    "def argument_parser():\n",
    "    parser = argparse.ArgumentParser(description = 'Set chart type')\n",
    "    parser.add_argument(\"-b\", \"--bar\", help=\"Produce a barplot\", action=\"store_true\")\n",
    "    parser.add_argument(\"-l\", \"--line\", help=\"Produce a lineplot\", action=\"store_true\")\n",
    "    args = parser.parse_args()\n",
    "    return args"
   ]
  },
  {
   "cell_type": "markdown",
   "id": "edde51d4",
   "metadata": {},
   "source": [
    "---\n",
    "Mine"
   ]
  },
  {
   "cell_type": "code",
   "execution_count": null,
   "id": "0f0ff479",
   "metadata": {},
   "outputs": [],
   "source": [
    "def main(some_args):\n",
    "    data\n",
    "    wrangling\n",
    "    distances\n",
    "    wrangling\n",
    "    csv"
   ]
  },
  {
   "cell_type": "markdown",
   "id": "b57dced8",
   "metadata": {},
   "source": [
    "Example"
   ]
  },
  {
   "cell_type": "code",
   "execution_count": null,
   "id": "f77eb895",
   "metadata": {},
   "outputs": [],
   "source": [
    "def main(some_args):\n",
    "    data = mac.acquire()\n",
    "    filtered = mwr.wrangle(data, year)\n",
    "    results = man.analyze(filtered)\n",
    "    fig = mre.plotting_function(results, title, arguments)\n",
    "    mre.save_viz(fig, title)\n",
    "    print('============= Pipeline is complete. You may find the results in the folder ./data/results ==============')"
   ]
  },
  {
   "cell_type": "markdown",
   "id": "4aa9a145",
   "metadata": {},
   "source": [
    "---\n",
    "Mine"
   ]
  },
  {
   "cell_type": "code",
   "execution_count": null,
   "id": "aa292d8a",
   "metadata": {},
   "outputs": [],
   "source": [
    "if __name__ == '__main__':\n",
    "    place = input('Enter the place: ')\n",
    "    places = input('Enter the type of place: ')\n",
    "    title = 'The station near of the place'\n",
    "    arguments = argument_parser()\n",
    "    main(arguments)"
   ]
  },
  {
   "cell_type": "markdown",
   "id": "21e55746",
   "metadata": {},
   "source": [
    "Example"
   ]
  },
  {
   "cell_type": "code",
   "execution_count": null,
   "id": "3cac167d",
   "metadata": {},
   "outputs": [],
   "source": [
    "if __name__ == '__main__':\n",
    "    year = int(input('Enter the year: '))\n",
    "    title = 'Top 10 Manufacturers by Fuel Efficiency ' + str(year)\n",
    "    arguments = argument_parser()\n",
    "    main(arguments)"
   ]
  }
 ],
 "metadata": {
  "kernelspec": {
   "display_name": "Python [conda env:pro_m1]",
   "language": "python",
   "name": "conda-env-pro_m1-py"
  },
  "language_info": {
   "codemirror_mode": {
    "name": "ipython",
    "version": 3
   },
   "file_extension": ".py",
   "mimetype": "text/x-python",
   "name": "python",
   "nbconvert_exporter": "python",
   "pygments_lexer": "ipython3",
   "version": "3.9.16"
  }
 },
 "nbformat": 4,
 "nbformat_minor": 5
}
