{
 "cells": [
  {
   "cell_type": "code",
   "execution_count": null,
   "id": "26971358",
   "metadata": {},
   "outputs": [],
   "source": [
    "import matplotlib.pyplot as plt\n",
    "from matplotlib.backends.backend_pdf import PdfPages"
   ]
  },
  {
   "cell_type": "code",
   "execution_count": null,
   "id": "e7e6ab16",
   "metadata": {},
   "outputs": [],
   "source": [
    "'''It must create, at least, a .csv file including the requested table (i.e. Main Challenge). \n",
    "Alternatively, you may create an image, pdf, plot or any other output format that you may find convenient. \n",
    "You may also send your output by e-mail, upload it to a cloud repository, etc.'''"
   ]
  },
  {
   "cell_type": "code",
   "execution_count": null,
   "id": "f3c71dd2",
   "metadata": {},
   "outputs": [],
   "source": [
    "fig, ax =plt.subplots(figsize=(12,4))\n",
    "ax.axis('tight')\n",
    "ax.axis('off')\n",
    "the_table = ax.table(cellText=df.values,colLabels=df.columns,loc='center')\n",
    "\n",
    "\n",
    "pp = PdfPages(\"foo.pdf\")\n",
    "pp.savefig(fig, bbox_inches='tight')\n",
    "pp.close()"
   ]
  },
  {
   "cell_type": "code",
   "execution_count": null,
   "id": "ba472a5c",
   "metadata": {},
   "outputs": [],
   "source": [
    "\n",
    "def plotting_function(df,title,args):\n",
    "    fig, ax = plt.subplots(figsize=(16,8))\n",
    "    plt.title(title + \"\\n\", fontsize=16)\n",
    "    if args.bar == True:\n",
    "        sns.barplot(data=df, x='Make', y='Combined MPG')\n",
    "        return fig\n",
    "    elif args.line == True:\n",
    "        sns.lineplot(data=df, x='Make', y='Combined MPG')\n",
    "        return fig"
   ]
  },
  {
   "cell_type": "code",
   "execution_count": null,
   "id": "c4d01938",
   "metadata": {},
   "outputs": [],
   "source": []
  },
  {
   "cell_type": "code",
   "execution_count": null,
   "id": "1237ab67",
   "metadata": {},
   "outputs": [],
   "source": [
    "def result(dff):\n",
    "    if args.type == True:\n",
    "        dff.to_csv('./data/gardens.csv')\n",
    "        fig, ax =plt.subplots(figsize=(12,4))\n",
    "        ax.axis('tight')\n",
    "        ax.axis('off')\n",
    "        the_table = ax.table(cellText=df.values,colLabels=df.columns,loc='center')\n",
    "        pp = PdfPages(\"gardens.pdf\")\n",
    "        pp.savefig(fig, bbox_inches='tight')\n",
    "        pp.close()\n",
    "    elif args.place == True:\n",
    "        dff.set_index(\"Place of interest\", inplace = True)\n",
    "        dff = dff.loc[place]\n",
    "        fig, ax =plt.subplots(figsize=(12,4))\n",
    "        ax.axis('tight')\n",
    "        ax.axis('off')\n",
    "        the_table = ax.table(cellText=dff.values,colLabels=dff.columns,loc='center')\n",
    "        pp = PdfPages(\"gardens.pdf\")\n",
    "        pp.savefig(fig, bbox_inches='tight')\n",
    "        pp.close()\n",
    "       "
   ]
  }
 ],
 "metadata": {
  "kernelspec": {
   "display_name": "Python [conda env:pro_m1]",
   "language": "python",
   "name": "conda-env-pro_m1-py"
  },
  "language_info": {
   "codemirror_mode": {
    "name": "ipython",
    "version": 3
   },
   "file_extension": ".py",
   "mimetype": "text/x-python",
   "name": "python",
   "nbconvert_exporter": "python",
   "pygments_lexer": "ipython3",
   "version": "3.9.16"
  }
 },
 "nbformat": 4,
 "nbformat_minor": 5
}
